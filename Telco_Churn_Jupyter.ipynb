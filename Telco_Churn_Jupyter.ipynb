{
 "cells": [
  {
   "cell_type": "markdown",
   "metadata": {
    "_uuid": "3544313683eb7fc71db62dea38a54a3482efec26"
   },
   "source": [
    "# Telecom Customer Churn Analyse"
   ]
  },
  {
   "cell_type": "markdown",
   "metadata": {
    "_uuid": "db15e9d14568dbe9d4091a9efe0dd1fd946b137a"
   },
   "source": [
    "Customer churn (Kundenabwanderung) ist ein allgegenwärtiges Problem für Unternehmen. Um diesem Phänomen entgegenzuwirken ist es wichtig zu verstehen, warum Kunden das Unternehmen verlassen. Denn wenn wir diese Zusammenhänge verstehen, dann können wir Vorhersagen für die Zukunft treffen und potentielle Abwanderungen erkennen. So können Abwanderungsgefährdeten Kunden beispielsweise Rabattangebote unterbreitet werden, um sie weiterhin als Kunde zu behalten. \n",
    "\n",
    "In diesem Beispiel analysieren wir Kundendaten eines Telekommunikationsunternehmens. Der volle Datensatz ist auf Kaggle zu finden: https://www.kaggle.com/blastchar/telco-customer-churn"
   ]
  },
  {
   "cell_type": "code",
   "execution_count": 1,
   "metadata": {
    "_cell_guid": "b1076dfc-b9ad-4769-8c92-a6c4dae69d19",
    "_uuid": "8f2839f25d086af736a60e9eeb907d3b93b6e0e5"
   },
   "outputs": [],
   "source": [
    "# Laden der Libraries\n",
    "import numpy as np \n",
    "import pandas as pd \n",
    "import seaborn as sns \n",
    "import matplotlib\n",
    "import matplotlib.pyplot as plt\n",
    "\n",
    "# Grafikstil und Optionen setzen\n",
    "sns.set(style = 'white')\n",
    "pd.set_option('display.max_columns', None)\n",
    "%matplotlib inline"
   ]
  },
  {
   "cell_type": "markdown",
   "metadata": {
    "_uuid": "72e4750b2861fe4d89197b4c73ad861544701c4f"
   },
   "source": [
    "**Einlesen der Daten**"
   ]
  },
  {
   "cell_type": "code",
   "execution_count": 2,
   "metadata": {
    "_cell_guid": "79c7e3d0-c299-4dcb-8224-4455121ee9b0",
    "_uuid": "d629ff2d2480ee46fbb7e2d37f6b5fab8052498a"
   },
   "outputs": [],
   "source": [
    "data = pd.read_csv('Telco-Churn.csv')"
   ]
  },
  {
   "cell_type": "code",
   "execution_count": 3,
   "metadata": {
    "_uuid": "9dc64474af58b8114afb60f83cd1a002722ba74c",
    "scrolled": true
   },
   "outputs": [
    {
     "data": {
      "text/html": [
       "<div>\n",
       "<style scoped>\n",
       "    .dataframe tbody tr th:only-of-type {\n",
       "        vertical-align: middle;\n",
       "    }\n",
       "\n",
       "    .dataframe tbody tr th {\n",
       "        vertical-align: top;\n",
       "    }\n",
       "\n",
       "    .dataframe thead th {\n",
       "        text-align: right;\n",
       "    }\n",
       "</style>\n",
       "<table border=\"1\" class=\"dataframe\">\n",
       "  <thead>\n",
       "    <tr style=\"text-align: right;\">\n",
       "      <th></th>\n",
       "      <th>customerID</th>\n",
       "      <th>gender</th>\n",
       "      <th>SeniorCitizen</th>\n",
       "      <th>Partner</th>\n",
       "      <th>Dependents</th>\n",
       "      <th>tenure</th>\n",
       "      <th>PhoneService</th>\n",
       "      <th>MultipleLines</th>\n",
       "      <th>InternetService</th>\n",
       "      <th>OnlineSecurity</th>\n",
       "      <th>OnlineBackup</th>\n",
       "      <th>DeviceProtection</th>\n",
       "      <th>TechSupport</th>\n",
       "      <th>StreamingTV</th>\n",
       "      <th>StreamingMovies</th>\n",
       "      <th>Contract</th>\n",
       "      <th>PaperlessBilling</th>\n",
       "      <th>PaymentMethod</th>\n",
       "      <th>MonthlyCharges</th>\n",
       "      <th>TotalCharges</th>\n",
       "      <th>Churn</th>\n",
       "    </tr>\n",
       "  </thead>\n",
       "  <tbody>\n",
       "    <tr>\n",
       "      <th>0</th>\n",
       "      <td>7590-VHVEG</td>\n",
       "      <td>Female</td>\n",
       "      <td>0</td>\n",
       "      <td>Yes</td>\n",
       "      <td>No</td>\n",
       "      <td>1</td>\n",
       "      <td>No</td>\n",
       "      <td>No phone service</td>\n",
       "      <td>DSL</td>\n",
       "      <td>No</td>\n",
       "      <td>Yes</td>\n",
       "      <td>No</td>\n",
       "      <td>No</td>\n",
       "      <td>No</td>\n",
       "      <td>No</td>\n",
       "      <td>Month-to-month</td>\n",
       "      <td>Yes</td>\n",
       "      <td>Electronic check</td>\n",
       "      <td>29.85</td>\n",
       "      <td>29.85</td>\n",
       "      <td>No</td>\n",
       "    </tr>\n",
       "    <tr>\n",
       "      <th>1</th>\n",
       "      <td>5575-GNVDE</td>\n",
       "      <td>Male</td>\n",
       "      <td>0</td>\n",
       "      <td>No</td>\n",
       "      <td>No</td>\n",
       "      <td>34</td>\n",
       "      <td>Yes</td>\n",
       "      <td>No</td>\n",
       "      <td>DSL</td>\n",
       "      <td>Yes</td>\n",
       "      <td>No</td>\n",
       "      <td>Yes</td>\n",
       "      <td>No</td>\n",
       "      <td>No</td>\n",
       "      <td>No</td>\n",
       "      <td>One year</td>\n",
       "      <td>No</td>\n",
       "      <td>Mailed check</td>\n",
       "      <td>56.95</td>\n",
       "      <td>1889.5</td>\n",
       "      <td>No</td>\n",
       "    </tr>\n",
       "    <tr>\n",
       "      <th>2</th>\n",
       "      <td>3668-QPYBK</td>\n",
       "      <td>Male</td>\n",
       "      <td>0</td>\n",
       "      <td>No</td>\n",
       "      <td>No</td>\n",
       "      <td>2</td>\n",
       "      <td>Yes</td>\n",
       "      <td>No</td>\n",
       "      <td>DSL</td>\n",
       "      <td>Yes</td>\n",
       "      <td>Yes</td>\n",
       "      <td>No</td>\n",
       "      <td>No</td>\n",
       "      <td>No</td>\n",
       "      <td>No</td>\n",
       "      <td>Month-to-month</td>\n",
       "      <td>Yes</td>\n",
       "      <td>Mailed check</td>\n",
       "      <td>53.85</td>\n",
       "      <td>108.15</td>\n",
       "      <td>Yes</td>\n",
       "    </tr>\n",
       "    <tr>\n",
       "      <th>3</th>\n",
       "      <td>7795-CFOCW</td>\n",
       "      <td>Male</td>\n",
       "      <td>0</td>\n",
       "      <td>No</td>\n",
       "      <td>No</td>\n",
       "      <td>45</td>\n",
       "      <td>No</td>\n",
       "      <td>No phone service</td>\n",
       "      <td>DSL</td>\n",
       "      <td>Yes</td>\n",
       "      <td>No</td>\n",
       "      <td>Yes</td>\n",
       "      <td>Yes</td>\n",
       "      <td>No</td>\n",
       "      <td>No</td>\n",
       "      <td>One year</td>\n",
       "      <td>No</td>\n",
       "      <td>Bank transfer (automatic)</td>\n",
       "      <td>42.30</td>\n",
       "      <td>1840.75</td>\n",
       "      <td>No</td>\n",
       "    </tr>\n",
       "    <tr>\n",
       "      <th>4</th>\n",
       "      <td>9237-HQITU</td>\n",
       "      <td>Female</td>\n",
       "      <td>0</td>\n",
       "      <td>No</td>\n",
       "      <td>No</td>\n",
       "      <td>2</td>\n",
       "      <td>Yes</td>\n",
       "      <td>No</td>\n",
       "      <td>Fiber optic</td>\n",
       "      <td>No</td>\n",
       "      <td>No</td>\n",
       "      <td>No</td>\n",
       "      <td>No</td>\n",
       "      <td>No</td>\n",
       "      <td>No</td>\n",
       "      <td>Month-to-month</td>\n",
       "      <td>Yes</td>\n",
       "      <td>Electronic check</td>\n",
       "      <td>70.70</td>\n",
       "      <td>151.65</td>\n",
       "      <td>Yes</td>\n",
       "    </tr>\n",
       "  </tbody>\n",
       "</table>\n",
       "</div>"
      ],
      "text/plain": [
       "   customerID  gender  SeniorCitizen Partner Dependents  tenure PhoneService  \\\n",
       "0  7590-VHVEG  Female              0     Yes         No       1           No   \n",
       "1  5575-GNVDE    Male              0      No         No      34          Yes   \n",
       "2  3668-QPYBK    Male              0      No         No       2          Yes   \n",
       "3  7795-CFOCW    Male              0      No         No      45           No   \n",
       "4  9237-HQITU  Female              0      No         No       2          Yes   \n",
       "\n",
       "      MultipleLines InternetService OnlineSecurity OnlineBackup  \\\n",
       "0  No phone service             DSL             No          Yes   \n",
       "1                No             DSL            Yes           No   \n",
       "2                No             DSL            Yes          Yes   \n",
       "3  No phone service             DSL            Yes           No   \n",
       "4                No     Fiber optic             No           No   \n",
       "\n",
       "  DeviceProtection TechSupport StreamingTV StreamingMovies        Contract  \\\n",
       "0               No          No          No              No  Month-to-month   \n",
       "1              Yes          No          No              No        One year   \n",
       "2               No          No          No              No  Month-to-month   \n",
       "3              Yes         Yes          No              No        One year   \n",
       "4               No          No          No              No  Month-to-month   \n",
       "\n",
       "  PaperlessBilling              PaymentMethod  MonthlyCharges TotalCharges  \\\n",
       "0              Yes           Electronic check           29.85        29.85   \n",
       "1               No               Mailed check           56.95       1889.5   \n",
       "2              Yes               Mailed check           53.85       108.15   \n",
       "3               No  Bank transfer (automatic)           42.30      1840.75   \n",
       "4              Yes           Electronic check           70.70       151.65   \n",
       "\n",
       "  Churn  \n",
       "0    No  \n",
       "1    No  \n",
       "2   Yes  \n",
       "3    No  \n",
       "4   Yes  "
      ]
     },
     "execution_count": 3,
     "metadata": {},
     "output_type": "execute_result"
    }
   ],
   "source": [
    "data.head()"
   ]
  },
  {
   "cell_type": "code",
   "execution_count": 4,
   "metadata": {
    "_uuid": "d814e5db6f76a4e90b8496f09d0ba340d1eae808"
   },
   "outputs": [
    {
     "data": {
      "text/plain": [
       "array(['customerID', 'gender', 'SeniorCitizen', 'Partner', 'Dependents',\n",
       "       'tenure', 'PhoneService', 'MultipleLines', 'InternetService',\n",
       "       'OnlineSecurity', 'OnlineBackup', 'DeviceProtection',\n",
       "       'TechSupport', 'StreamingTV', 'StreamingMovies', 'Contract',\n",
       "       'PaperlessBilling', 'PaymentMethod', 'MonthlyCharges',\n",
       "       'TotalCharges', 'Churn'], dtype=object)"
      ]
     },
     "execution_count": 4,
     "metadata": {},
     "output_type": "execute_result"
    }
   ],
   "source": [
    "data.columns.values"
   ]
  },
  {
   "cell_type": "code",
   "execution_count": 5,
   "metadata": {
    "_uuid": "641531c5f3131228c78e6a200e0410a161ccb2b0"
   },
   "outputs": [
    {
     "data": {
      "text/plain": [
       "customerID           object\n",
       "gender               object\n",
       "SeniorCitizen         int64\n",
       "Partner              object\n",
       "Dependents           object\n",
       "tenure                int64\n",
       "PhoneService         object\n",
       "MultipleLines        object\n",
       "InternetService      object\n",
       "OnlineSecurity       object\n",
       "OnlineBackup         object\n",
       "DeviceProtection     object\n",
       "TechSupport          object\n",
       "StreamingTV          object\n",
       "StreamingMovies      object\n",
       "Contract             object\n",
       "PaperlessBilling     object\n",
       "PaymentMethod        object\n",
       "MonthlyCharges      float64\n",
       "TotalCharges         object\n",
       "Churn                object\n",
       "dtype: object"
      ]
     },
     "execution_count": 5,
     "metadata": {},
     "output_type": "execute_result"
    }
   ],
   "source": [
    "# Überprüfen der Datentypen\n",
    "data.dtypes\n",
    "# TotalCharges wird nicht als numerisch gesehen"
   ]
  },
  {
   "cell_type": "code",
   "execution_count": 6,
   "metadata": {
    "_uuid": "1d2c01029124a6fe73b3ec3fc4efdb66647d64e1"
   },
   "outputs": [],
   "source": [
    "# Konvertieren von TotalCharges zu numerisch\n",
    "data.TotalCharges = pd.to_numeric(data.TotalCharges, errors='coerce')"
   ]
  },
  {
   "cell_type": "code",
   "execution_count": 7,
   "metadata": {
    "scrolled": false
   },
   "outputs": [
    {
     "data": {
      "text/plain": [
       "customerID          0.000000\n",
       "gender              0.000000\n",
       "SeniorCitizen       0.000000\n",
       "Partner             0.000000\n",
       "Dependents          0.000000\n",
       "tenure              0.000000\n",
       "PhoneService        0.000000\n",
       "MultipleLines       0.000000\n",
       "InternetService     0.000000\n",
       "OnlineSecurity      0.000000\n",
       "OnlineBackup        0.000000\n",
       "DeviceProtection    0.000000\n",
       "TechSupport         0.000000\n",
       "StreamingTV         0.000000\n",
       "StreamingMovies     0.000000\n",
       "Contract            0.000000\n",
       "PaperlessBilling    0.000000\n",
       "PaymentMethod       0.000000\n",
       "MonthlyCharges      0.000000\n",
       "TotalCharges        0.001562\n",
       "Churn               0.000000\n",
       "dtype: float64"
      ]
     },
     "execution_count": 7,
     "metadata": {},
     "output_type": "execute_result"
    }
   ],
   "source": [
    "data.isnull().mean()"
   ]
  },
  {
   "cell_type": "code",
   "execution_count": 8,
   "metadata": {
    "_uuid": "4c997dec9dbb501333f6a1562e9092e1008df58f"
   },
   "outputs": [],
   "source": [
    "# Nur 0.1562% der Personen enthalten einen fehlenden Wert, weswegen sich Zeilen löschen anbietet.\n",
    "data.dropna(inplace = True)"
   ]
  },
  {
   "cell_type": "code",
   "execution_count": 9,
   "metadata": {
    "_uuid": "35b6c18a5b84dd1e5fa014b49fcfce8ee43aaabe"
   },
   "outputs": [],
   "source": [
    "# customerID ist kein sinnvolles Vorhersage feature.\n",
    "df = data.drop(columns=\"customerID\")"
   ]
  },
  {
   "cell_type": "code",
   "execution_count": 10,
   "metadata": {},
   "outputs": [
    {
     "data": {
      "text/html": [
       "<div>\n",
       "<style scoped>\n",
       "    .dataframe tbody tr th:only-of-type {\n",
       "        vertical-align: middle;\n",
       "    }\n",
       "\n",
       "    .dataframe tbody tr th {\n",
       "        vertical-align: top;\n",
       "    }\n",
       "\n",
       "    .dataframe thead th {\n",
       "        text-align: right;\n",
       "    }\n",
       "</style>\n",
       "<table border=\"1\" class=\"dataframe\">\n",
       "  <thead>\n",
       "    <tr style=\"text-align: right;\">\n",
       "      <th></th>\n",
       "      <th>gender</th>\n",
       "      <th>SeniorCitizen</th>\n",
       "      <th>Partner</th>\n",
       "      <th>Dependents</th>\n",
       "      <th>tenure</th>\n",
       "      <th>PhoneService</th>\n",
       "      <th>MultipleLines</th>\n",
       "      <th>InternetService</th>\n",
       "      <th>OnlineSecurity</th>\n",
       "      <th>OnlineBackup</th>\n",
       "      <th>DeviceProtection</th>\n",
       "      <th>TechSupport</th>\n",
       "      <th>StreamingTV</th>\n",
       "      <th>StreamingMovies</th>\n",
       "      <th>Contract</th>\n",
       "      <th>PaperlessBilling</th>\n",
       "      <th>PaymentMethod</th>\n",
       "      <th>MonthlyCharges</th>\n",
       "      <th>TotalCharges</th>\n",
       "      <th>Churn</th>\n",
       "    </tr>\n",
       "  </thead>\n",
       "  <tbody>\n",
       "    <tr>\n",
       "      <th>0</th>\n",
       "      <td>Female</td>\n",
       "      <td>0</td>\n",
       "      <td>Yes</td>\n",
       "      <td>No</td>\n",
       "      <td>1</td>\n",
       "      <td>No</td>\n",
       "      <td>No phone service</td>\n",
       "      <td>DSL</td>\n",
       "      <td>No</td>\n",
       "      <td>Yes</td>\n",
       "      <td>No</td>\n",
       "      <td>No</td>\n",
       "      <td>No</td>\n",
       "      <td>No</td>\n",
       "      <td>Month-to-month</td>\n",
       "      <td>Yes</td>\n",
       "      <td>Electronic check</td>\n",
       "      <td>29.85</td>\n",
       "      <td>29.85</td>\n",
       "      <td>No</td>\n",
       "    </tr>\n",
       "    <tr>\n",
       "      <th>1</th>\n",
       "      <td>Male</td>\n",
       "      <td>0</td>\n",
       "      <td>No</td>\n",
       "      <td>No</td>\n",
       "      <td>34</td>\n",
       "      <td>Yes</td>\n",
       "      <td>No</td>\n",
       "      <td>DSL</td>\n",
       "      <td>Yes</td>\n",
       "      <td>No</td>\n",
       "      <td>Yes</td>\n",
       "      <td>No</td>\n",
       "      <td>No</td>\n",
       "      <td>No</td>\n",
       "      <td>One year</td>\n",
       "      <td>No</td>\n",
       "      <td>Mailed check</td>\n",
       "      <td>56.95</td>\n",
       "      <td>1889.50</td>\n",
       "      <td>No</td>\n",
       "    </tr>\n",
       "    <tr>\n",
       "      <th>2</th>\n",
       "      <td>Male</td>\n",
       "      <td>0</td>\n",
       "      <td>No</td>\n",
       "      <td>No</td>\n",
       "      <td>2</td>\n",
       "      <td>Yes</td>\n",
       "      <td>No</td>\n",
       "      <td>DSL</td>\n",
       "      <td>Yes</td>\n",
       "      <td>Yes</td>\n",
       "      <td>No</td>\n",
       "      <td>No</td>\n",
       "      <td>No</td>\n",
       "      <td>No</td>\n",
       "      <td>Month-to-month</td>\n",
       "      <td>Yes</td>\n",
       "      <td>Mailed check</td>\n",
       "      <td>53.85</td>\n",
       "      <td>108.15</td>\n",
       "      <td>Yes</td>\n",
       "    </tr>\n",
       "    <tr>\n",
       "      <th>3</th>\n",
       "      <td>Male</td>\n",
       "      <td>0</td>\n",
       "      <td>No</td>\n",
       "      <td>No</td>\n",
       "      <td>45</td>\n",
       "      <td>No</td>\n",
       "      <td>No phone service</td>\n",
       "      <td>DSL</td>\n",
       "      <td>Yes</td>\n",
       "      <td>No</td>\n",
       "      <td>Yes</td>\n",
       "      <td>Yes</td>\n",
       "      <td>No</td>\n",
       "      <td>No</td>\n",
       "      <td>One year</td>\n",
       "      <td>No</td>\n",
       "      <td>Bank transfer (automatic)</td>\n",
       "      <td>42.30</td>\n",
       "      <td>1840.75</td>\n",
       "      <td>No</td>\n",
       "    </tr>\n",
       "    <tr>\n",
       "      <th>4</th>\n",
       "      <td>Female</td>\n",
       "      <td>0</td>\n",
       "      <td>No</td>\n",
       "      <td>No</td>\n",
       "      <td>2</td>\n",
       "      <td>Yes</td>\n",
       "      <td>No</td>\n",
       "      <td>Fiber optic</td>\n",
       "      <td>No</td>\n",
       "      <td>No</td>\n",
       "      <td>No</td>\n",
       "      <td>No</td>\n",
       "      <td>No</td>\n",
       "      <td>No</td>\n",
       "      <td>Month-to-month</td>\n",
       "      <td>Yes</td>\n",
       "      <td>Electronic check</td>\n",
       "      <td>70.70</td>\n",
       "      <td>151.65</td>\n",
       "      <td>Yes</td>\n",
       "    </tr>\n",
       "    <tr>\n",
       "      <th>...</th>\n",
       "      <td>...</td>\n",
       "      <td>...</td>\n",
       "      <td>...</td>\n",
       "      <td>...</td>\n",
       "      <td>...</td>\n",
       "      <td>...</td>\n",
       "      <td>...</td>\n",
       "      <td>...</td>\n",
       "      <td>...</td>\n",
       "      <td>...</td>\n",
       "      <td>...</td>\n",
       "      <td>...</td>\n",
       "      <td>...</td>\n",
       "      <td>...</td>\n",
       "      <td>...</td>\n",
       "      <td>...</td>\n",
       "      <td>...</td>\n",
       "      <td>...</td>\n",
       "      <td>...</td>\n",
       "      <td>...</td>\n",
       "    </tr>\n",
       "    <tr>\n",
       "      <th>7038</th>\n",
       "      <td>Male</td>\n",
       "      <td>0</td>\n",
       "      <td>Yes</td>\n",
       "      <td>Yes</td>\n",
       "      <td>24</td>\n",
       "      <td>Yes</td>\n",
       "      <td>Yes</td>\n",
       "      <td>DSL</td>\n",
       "      <td>Yes</td>\n",
       "      <td>No</td>\n",
       "      <td>Yes</td>\n",
       "      <td>Yes</td>\n",
       "      <td>Yes</td>\n",
       "      <td>Yes</td>\n",
       "      <td>One year</td>\n",
       "      <td>Yes</td>\n",
       "      <td>Mailed check</td>\n",
       "      <td>84.80</td>\n",
       "      <td>1990.50</td>\n",
       "      <td>No</td>\n",
       "    </tr>\n",
       "    <tr>\n",
       "      <th>7039</th>\n",
       "      <td>Female</td>\n",
       "      <td>0</td>\n",
       "      <td>Yes</td>\n",
       "      <td>Yes</td>\n",
       "      <td>72</td>\n",
       "      <td>Yes</td>\n",
       "      <td>Yes</td>\n",
       "      <td>Fiber optic</td>\n",
       "      <td>No</td>\n",
       "      <td>Yes</td>\n",
       "      <td>Yes</td>\n",
       "      <td>No</td>\n",
       "      <td>Yes</td>\n",
       "      <td>Yes</td>\n",
       "      <td>One year</td>\n",
       "      <td>Yes</td>\n",
       "      <td>Credit card (automatic)</td>\n",
       "      <td>103.20</td>\n",
       "      <td>7362.90</td>\n",
       "      <td>No</td>\n",
       "    </tr>\n",
       "    <tr>\n",
       "      <th>7040</th>\n",
       "      <td>Female</td>\n",
       "      <td>0</td>\n",
       "      <td>Yes</td>\n",
       "      <td>Yes</td>\n",
       "      <td>11</td>\n",
       "      <td>No</td>\n",
       "      <td>No phone service</td>\n",
       "      <td>DSL</td>\n",
       "      <td>Yes</td>\n",
       "      <td>No</td>\n",
       "      <td>No</td>\n",
       "      <td>No</td>\n",
       "      <td>No</td>\n",
       "      <td>No</td>\n",
       "      <td>Month-to-month</td>\n",
       "      <td>Yes</td>\n",
       "      <td>Electronic check</td>\n",
       "      <td>29.60</td>\n",
       "      <td>346.45</td>\n",
       "      <td>No</td>\n",
       "    </tr>\n",
       "    <tr>\n",
       "      <th>7041</th>\n",
       "      <td>Male</td>\n",
       "      <td>1</td>\n",
       "      <td>Yes</td>\n",
       "      <td>No</td>\n",
       "      <td>4</td>\n",
       "      <td>Yes</td>\n",
       "      <td>Yes</td>\n",
       "      <td>Fiber optic</td>\n",
       "      <td>No</td>\n",
       "      <td>No</td>\n",
       "      <td>No</td>\n",
       "      <td>No</td>\n",
       "      <td>No</td>\n",
       "      <td>No</td>\n",
       "      <td>Month-to-month</td>\n",
       "      <td>Yes</td>\n",
       "      <td>Mailed check</td>\n",
       "      <td>74.40</td>\n",
       "      <td>306.60</td>\n",
       "      <td>Yes</td>\n",
       "    </tr>\n",
       "    <tr>\n",
       "      <th>7042</th>\n",
       "      <td>Male</td>\n",
       "      <td>0</td>\n",
       "      <td>No</td>\n",
       "      <td>No</td>\n",
       "      <td>66</td>\n",
       "      <td>Yes</td>\n",
       "      <td>No</td>\n",
       "      <td>Fiber optic</td>\n",
       "      <td>Yes</td>\n",
       "      <td>No</td>\n",
       "      <td>Yes</td>\n",
       "      <td>Yes</td>\n",
       "      <td>Yes</td>\n",
       "      <td>Yes</td>\n",
       "      <td>Two year</td>\n",
       "      <td>Yes</td>\n",
       "      <td>Bank transfer (automatic)</td>\n",
       "      <td>105.65</td>\n",
       "      <td>6844.50</td>\n",
       "      <td>No</td>\n",
       "    </tr>\n",
       "  </tbody>\n",
       "</table>\n",
       "<p>7032 rows × 20 columns</p>\n",
       "</div>"
      ],
      "text/plain": [
       "      gender  SeniorCitizen Partner Dependents  tenure PhoneService  \\\n",
       "0     Female              0     Yes         No       1           No   \n",
       "1       Male              0      No         No      34          Yes   \n",
       "2       Male              0      No         No       2          Yes   \n",
       "3       Male              0      No         No      45           No   \n",
       "4     Female              0      No         No       2          Yes   \n",
       "...      ...            ...     ...        ...     ...          ...   \n",
       "7038    Male              0     Yes        Yes      24          Yes   \n",
       "7039  Female              0     Yes        Yes      72          Yes   \n",
       "7040  Female              0     Yes        Yes      11           No   \n",
       "7041    Male              1     Yes         No       4          Yes   \n",
       "7042    Male              0      No         No      66          Yes   \n",
       "\n",
       "         MultipleLines InternetService OnlineSecurity OnlineBackup  \\\n",
       "0     No phone service             DSL             No          Yes   \n",
       "1                   No             DSL            Yes           No   \n",
       "2                   No             DSL            Yes          Yes   \n",
       "3     No phone service             DSL            Yes           No   \n",
       "4                   No     Fiber optic             No           No   \n",
       "...                ...             ...            ...          ...   \n",
       "7038               Yes             DSL            Yes           No   \n",
       "7039               Yes     Fiber optic             No          Yes   \n",
       "7040  No phone service             DSL            Yes           No   \n",
       "7041               Yes     Fiber optic             No           No   \n",
       "7042                No     Fiber optic            Yes           No   \n",
       "\n",
       "     DeviceProtection TechSupport StreamingTV StreamingMovies        Contract  \\\n",
       "0                  No          No          No              No  Month-to-month   \n",
       "1                 Yes          No          No              No        One year   \n",
       "2                  No          No          No              No  Month-to-month   \n",
       "3                 Yes         Yes          No              No        One year   \n",
       "4                  No          No          No              No  Month-to-month   \n",
       "...               ...         ...         ...             ...             ...   \n",
       "7038              Yes         Yes         Yes             Yes        One year   \n",
       "7039              Yes          No         Yes             Yes        One year   \n",
       "7040               No          No          No              No  Month-to-month   \n",
       "7041               No          No          No              No  Month-to-month   \n",
       "7042              Yes         Yes         Yes             Yes        Two year   \n",
       "\n",
       "     PaperlessBilling              PaymentMethod  MonthlyCharges  \\\n",
       "0                 Yes           Electronic check           29.85   \n",
       "1                  No               Mailed check           56.95   \n",
       "2                 Yes               Mailed check           53.85   \n",
       "3                  No  Bank transfer (automatic)           42.30   \n",
       "4                 Yes           Electronic check           70.70   \n",
       "...               ...                        ...             ...   \n",
       "7038              Yes               Mailed check           84.80   \n",
       "7039              Yes    Credit card (automatic)          103.20   \n",
       "7040              Yes           Electronic check           29.60   \n",
       "7041              Yes               Mailed check           74.40   \n",
       "7042              Yes  Bank transfer (automatic)          105.65   \n",
       "\n",
       "      TotalCharges Churn  \n",
       "0            29.85    No  \n",
       "1          1889.50    No  \n",
       "2           108.15   Yes  \n",
       "3          1840.75    No  \n",
       "4           151.65   Yes  \n",
       "...            ...   ...  \n",
       "7038       1990.50    No  \n",
       "7039       7362.90    No  \n",
       "7040        346.45    No  \n",
       "7041        306.60   Yes  \n",
       "7042       6844.50    No  \n",
       "\n",
       "[7032 rows x 20 columns]"
      ]
     },
     "execution_count": 10,
     "metadata": {},
     "output_type": "execute_result"
    }
   ],
   "source": [
    "df"
   ]
  },
  {
   "cell_type": "code",
   "execution_count": 11,
   "metadata": {},
   "outputs": [],
   "source": [
    "# Umkodieren der Churn Variable von Ja/Nein auf 1/0\n",
    "df['Churn'].replace(to_replace='Yes', value=1, inplace=True)\n",
    "df['Churn'].replace(to_replace='No',  value=0, inplace=True)"
   ]
  },
  {
   "cell_type": "code",
   "execution_count": 12,
   "metadata": {
    "scrolled": true
   },
   "outputs": [],
   "source": [
    "# Dummies der kategorischen Variablen erstellen für die späteren Modelle (aka one-hot-encoding)\n",
    "df_dummies = pd.get_dummies(df)"
   ]
  },
  {
   "cell_type": "code",
   "execution_count": 13,
   "metadata": {},
   "outputs": [
    {
     "data": {
      "text/html": [
       "<div>\n",
       "<style scoped>\n",
       "    .dataframe tbody tr th:only-of-type {\n",
       "        vertical-align: middle;\n",
       "    }\n",
       "\n",
       "    .dataframe tbody tr th {\n",
       "        vertical-align: top;\n",
       "    }\n",
       "\n",
       "    .dataframe thead th {\n",
       "        text-align: right;\n",
       "    }\n",
       "</style>\n",
       "<table border=\"1\" class=\"dataframe\">\n",
       "  <thead>\n",
       "    <tr style=\"text-align: right;\">\n",
       "      <th></th>\n",
       "      <th>SeniorCitizen</th>\n",
       "      <th>tenure</th>\n",
       "      <th>MonthlyCharges</th>\n",
       "      <th>TotalCharges</th>\n",
       "      <th>Churn</th>\n",
       "      <th>gender_Female</th>\n",
       "      <th>gender_Male</th>\n",
       "      <th>Partner_No</th>\n",
       "      <th>Partner_Yes</th>\n",
       "      <th>Dependents_No</th>\n",
       "      <th>Dependents_Yes</th>\n",
       "      <th>PhoneService_No</th>\n",
       "      <th>PhoneService_Yes</th>\n",
       "      <th>MultipleLines_No</th>\n",
       "      <th>MultipleLines_No phone service</th>\n",
       "      <th>MultipleLines_Yes</th>\n",
       "      <th>InternetService_DSL</th>\n",
       "      <th>InternetService_Fiber optic</th>\n",
       "      <th>InternetService_No</th>\n",
       "      <th>OnlineSecurity_No</th>\n",
       "      <th>OnlineSecurity_No internet service</th>\n",
       "      <th>OnlineSecurity_Yes</th>\n",
       "      <th>OnlineBackup_No</th>\n",
       "      <th>OnlineBackup_No internet service</th>\n",
       "      <th>OnlineBackup_Yes</th>\n",
       "      <th>DeviceProtection_No</th>\n",
       "      <th>DeviceProtection_No internet service</th>\n",
       "      <th>DeviceProtection_Yes</th>\n",
       "      <th>TechSupport_No</th>\n",
       "      <th>TechSupport_No internet service</th>\n",
       "      <th>TechSupport_Yes</th>\n",
       "      <th>StreamingTV_No</th>\n",
       "      <th>StreamingTV_No internet service</th>\n",
       "      <th>StreamingTV_Yes</th>\n",
       "      <th>StreamingMovies_No</th>\n",
       "      <th>StreamingMovies_No internet service</th>\n",
       "      <th>StreamingMovies_Yes</th>\n",
       "      <th>Contract_Month-to-month</th>\n",
       "      <th>Contract_One year</th>\n",
       "      <th>Contract_Two year</th>\n",
       "      <th>PaperlessBilling_No</th>\n",
       "      <th>PaperlessBilling_Yes</th>\n",
       "      <th>PaymentMethod_Bank transfer (automatic)</th>\n",
       "      <th>PaymentMethod_Credit card (automatic)</th>\n",
       "      <th>PaymentMethod_Electronic check</th>\n",
       "      <th>PaymentMethod_Mailed check</th>\n",
       "    </tr>\n",
       "  </thead>\n",
       "  <tbody>\n",
       "    <tr>\n",
       "      <th>0</th>\n",
       "      <td>0</td>\n",
       "      <td>1</td>\n",
       "      <td>29.85</td>\n",
       "      <td>29.85</td>\n",
       "      <td>0</td>\n",
       "      <td>1</td>\n",
       "      <td>0</td>\n",
       "      <td>0</td>\n",
       "      <td>1</td>\n",
       "      <td>1</td>\n",
       "      <td>0</td>\n",
       "      <td>1</td>\n",
       "      <td>0</td>\n",
       "      <td>0</td>\n",
       "      <td>1</td>\n",
       "      <td>0</td>\n",
       "      <td>1</td>\n",
       "      <td>0</td>\n",
       "      <td>0</td>\n",
       "      <td>1</td>\n",
       "      <td>0</td>\n",
       "      <td>0</td>\n",
       "      <td>0</td>\n",
       "      <td>0</td>\n",
       "      <td>1</td>\n",
       "      <td>1</td>\n",
       "      <td>0</td>\n",
       "      <td>0</td>\n",
       "      <td>1</td>\n",
       "      <td>0</td>\n",
       "      <td>0</td>\n",
       "      <td>1</td>\n",
       "      <td>0</td>\n",
       "      <td>0</td>\n",
       "      <td>1</td>\n",
       "      <td>0</td>\n",
       "      <td>0</td>\n",
       "      <td>1</td>\n",
       "      <td>0</td>\n",
       "      <td>0</td>\n",
       "      <td>0</td>\n",
       "      <td>1</td>\n",
       "      <td>0</td>\n",
       "      <td>0</td>\n",
       "      <td>1</td>\n",
       "      <td>0</td>\n",
       "    </tr>\n",
       "    <tr>\n",
       "      <th>1</th>\n",
       "      <td>0</td>\n",
       "      <td>34</td>\n",
       "      <td>56.95</td>\n",
       "      <td>1889.50</td>\n",
       "      <td>0</td>\n",
       "      <td>0</td>\n",
       "      <td>1</td>\n",
       "      <td>1</td>\n",
       "      <td>0</td>\n",
       "      <td>1</td>\n",
       "      <td>0</td>\n",
       "      <td>0</td>\n",
       "      <td>1</td>\n",
       "      <td>1</td>\n",
       "      <td>0</td>\n",
       "      <td>0</td>\n",
       "      <td>1</td>\n",
       "      <td>0</td>\n",
       "      <td>0</td>\n",
       "      <td>0</td>\n",
       "      <td>0</td>\n",
       "      <td>1</td>\n",
       "      <td>1</td>\n",
       "      <td>0</td>\n",
       "      <td>0</td>\n",
       "      <td>0</td>\n",
       "      <td>0</td>\n",
       "      <td>1</td>\n",
       "      <td>1</td>\n",
       "      <td>0</td>\n",
       "      <td>0</td>\n",
       "      <td>1</td>\n",
       "      <td>0</td>\n",
       "      <td>0</td>\n",
       "      <td>1</td>\n",
       "      <td>0</td>\n",
       "      <td>0</td>\n",
       "      <td>0</td>\n",
       "      <td>1</td>\n",
       "      <td>0</td>\n",
       "      <td>1</td>\n",
       "      <td>0</td>\n",
       "      <td>0</td>\n",
       "      <td>0</td>\n",
       "      <td>0</td>\n",
       "      <td>1</td>\n",
       "    </tr>\n",
       "    <tr>\n",
       "      <th>2</th>\n",
       "      <td>0</td>\n",
       "      <td>2</td>\n",
       "      <td>53.85</td>\n",
       "      <td>108.15</td>\n",
       "      <td>1</td>\n",
       "      <td>0</td>\n",
       "      <td>1</td>\n",
       "      <td>1</td>\n",
       "      <td>0</td>\n",
       "      <td>1</td>\n",
       "      <td>0</td>\n",
       "      <td>0</td>\n",
       "      <td>1</td>\n",
       "      <td>1</td>\n",
       "      <td>0</td>\n",
       "      <td>0</td>\n",
       "      <td>1</td>\n",
       "      <td>0</td>\n",
       "      <td>0</td>\n",
       "      <td>0</td>\n",
       "      <td>0</td>\n",
       "      <td>1</td>\n",
       "      <td>0</td>\n",
       "      <td>0</td>\n",
       "      <td>1</td>\n",
       "      <td>1</td>\n",
       "      <td>0</td>\n",
       "      <td>0</td>\n",
       "      <td>1</td>\n",
       "      <td>0</td>\n",
       "      <td>0</td>\n",
       "      <td>1</td>\n",
       "      <td>0</td>\n",
       "      <td>0</td>\n",
       "      <td>1</td>\n",
       "      <td>0</td>\n",
       "      <td>0</td>\n",
       "      <td>1</td>\n",
       "      <td>0</td>\n",
       "      <td>0</td>\n",
       "      <td>0</td>\n",
       "      <td>1</td>\n",
       "      <td>0</td>\n",
       "      <td>0</td>\n",
       "      <td>0</td>\n",
       "      <td>1</td>\n",
       "    </tr>\n",
       "    <tr>\n",
       "      <th>3</th>\n",
       "      <td>0</td>\n",
       "      <td>45</td>\n",
       "      <td>42.30</td>\n",
       "      <td>1840.75</td>\n",
       "      <td>0</td>\n",
       "      <td>0</td>\n",
       "      <td>1</td>\n",
       "      <td>1</td>\n",
       "      <td>0</td>\n",
       "      <td>1</td>\n",
       "      <td>0</td>\n",
       "      <td>1</td>\n",
       "      <td>0</td>\n",
       "      <td>0</td>\n",
       "      <td>1</td>\n",
       "      <td>0</td>\n",
       "      <td>1</td>\n",
       "      <td>0</td>\n",
       "      <td>0</td>\n",
       "      <td>0</td>\n",
       "      <td>0</td>\n",
       "      <td>1</td>\n",
       "      <td>1</td>\n",
       "      <td>0</td>\n",
       "      <td>0</td>\n",
       "      <td>0</td>\n",
       "      <td>0</td>\n",
       "      <td>1</td>\n",
       "      <td>0</td>\n",
       "      <td>0</td>\n",
       "      <td>1</td>\n",
       "      <td>1</td>\n",
       "      <td>0</td>\n",
       "      <td>0</td>\n",
       "      <td>1</td>\n",
       "      <td>0</td>\n",
       "      <td>0</td>\n",
       "      <td>0</td>\n",
       "      <td>1</td>\n",
       "      <td>0</td>\n",
       "      <td>1</td>\n",
       "      <td>0</td>\n",
       "      <td>1</td>\n",
       "      <td>0</td>\n",
       "      <td>0</td>\n",
       "      <td>0</td>\n",
       "    </tr>\n",
       "    <tr>\n",
       "      <th>4</th>\n",
       "      <td>0</td>\n",
       "      <td>2</td>\n",
       "      <td>70.70</td>\n",
       "      <td>151.65</td>\n",
       "      <td>1</td>\n",
       "      <td>1</td>\n",
       "      <td>0</td>\n",
       "      <td>1</td>\n",
       "      <td>0</td>\n",
       "      <td>1</td>\n",
       "      <td>0</td>\n",
       "      <td>0</td>\n",
       "      <td>1</td>\n",
       "      <td>1</td>\n",
       "      <td>0</td>\n",
       "      <td>0</td>\n",
       "      <td>0</td>\n",
       "      <td>1</td>\n",
       "      <td>0</td>\n",
       "      <td>1</td>\n",
       "      <td>0</td>\n",
       "      <td>0</td>\n",
       "      <td>1</td>\n",
       "      <td>0</td>\n",
       "      <td>0</td>\n",
       "      <td>1</td>\n",
       "      <td>0</td>\n",
       "      <td>0</td>\n",
       "      <td>1</td>\n",
       "      <td>0</td>\n",
       "      <td>0</td>\n",
       "      <td>1</td>\n",
       "      <td>0</td>\n",
       "      <td>0</td>\n",
       "      <td>1</td>\n",
       "      <td>0</td>\n",
       "      <td>0</td>\n",
       "      <td>1</td>\n",
       "      <td>0</td>\n",
       "      <td>0</td>\n",
       "      <td>0</td>\n",
       "      <td>1</td>\n",
       "      <td>0</td>\n",
       "      <td>0</td>\n",
       "      <td>1</td>\n",
       "      <td>0</td>\n",
       "    </tr>\n",
       "  </tbody>\n",
       "</table>\n",
       "</div>"
      ],
      "text/plain": [
       "   SeniorCitizen  tenure  MonthlyCharges  TotalCharges  Churn  gender_Female  \\\n",
       "0              0       1           29.85         29.85      0              1   \n",
       "1              0      34           56.95       1889.50      0              0   \n",
       "2              0       2           53.85        108.15      1              0   \n",
       "3              0      45           42.30       1840.75      0              0   \n",
       "4              0       2           70.70        151.65      1              1   \n",
       "\n",
       "   gender_Male  Partner_No  Partner_Yes  Dependents_No  Dependents_Yes  \\\n",
       "0            0           0            1              1               0   \n",
       "1            1           1            0              1               0   \n",
       "2            1           1            0              1               0   \n",
       "3            1           1            0              1               0   \n",
       "4            0           1            0              1               0   \n",
       "\n",
       "   PhoneService_No  PhoneService_Yes  MultipleLines_No  \\\n",
       "0                1                 0                 0   \n",
       "1                0                 1                 1   \n",
       "2                0                 1                 1   \n",
       "3                1                 0                 0   \n",
       "4                0                 1                 1   \n",
       "\n",
       "   MultipleLines_No phone service  MultipleLines_Yes  InternetService_DSL  \\\n",
       "0                               1                  0                    1   \n",
       "1                               0                  0                    1   \n",
       "2                               0                  0                    1   \n",
       "3                               1                  0                    1   \n",
       "4                               0                  0                    0   \n",
       "\n",
       "   InternetService_Fiber optic  InternetService_No  OnlineSecurity_No  \\\n",
       "0                            0                   0                  1   \n",
       "1                            0                   0                  0   \n",
       "2                            0                   0                  0   \n",
       "3                            0                   0                  0   \n",
       "4                            1                   0                  1   \n",
       "\n",
       "   OnlineSecurity_No internet service  OnlineSecurity_Yes  OnlineBackup_No  \\\n",
       "0                                   0                   0                0   \n",
       "1                                   0                   1                1   \n",
       "2                                   0                   1                0   \n",
       "3                                   0                   1                1   \n",
       "4                                   0                   0                1   \n",
       "\n",
       "   OnlineBackup_No internet service  OnlineBackup_Yes  DeviceProtection_No  \\\n",
       "0                                 0                 1                    1   \n",
       "1                                 0                 0                    0   \n",
       "2                                 0                 1                    1   \n",
       "3                                 0                 0                    0   \n",
       "4                                 0                 0                    1   \n",
       "\n",
       "   DeviceProtection_No internet service  DeviceProtection_Yes  TechSupport_No  \\\n",
       "0                                     0                     0               1   \n",
       "1                                     0                     1               1   \n",
       "2                                     0                     0               1   \n",
       "3                                     0                     1               0   \n",
       "4                                     0                     0               1   \n",
       "\n",
       "   TechSupport_No internet service  TechSupport_Yes  StreamingTV_No  \\\n",
       "0                                0                0               1   \n",
       "1                                0                0               1   \n",
       "2                                0                0               1   \n",
       "3                                0                1               1   \n",
       "4                                0                0               1   \n",
       "\n",
       "   StreamingTV_No internet service  StreamingTV_Yes  StreamingMovies_No  \\\n",
       "0                                0                0                   1   \n",
       "1                                0                0                   1   \n",
       "2                                0                0                   1   \n",
       "3                                0                0                   1   \n",
       "4                                0                0                   1   \n",
       "\n",
       "   StreamingMovies_No internet service  StreamingMovies_Yes  \\\n",
       "0                                    0                    0   \n",
       "1                                    0                    0   \n",
       "2                                    0                    0   \n",
       "3                                    0                    0   \n",
       "4                                    0                    0   \n",
       "\n",
       "   Contract_Month-to-month  Contract_One year  Contract_Two year  \\\n",
       "0                        1                  0                  0   \n",
       "1                        0                  1                  0   \n",
       "2                        1                  0                  0   \n",
       "3                        0                  1                  0   \n",
       "4                        1                  0                  0   \n",
       "\n",
       "   PaperlessBilling_No  PaperlessBilling_Yes  \\\n",
       "0                    0                     1   \n",
       "1                    1                     0   \n",
       "2                    0                     1   \n",
       "3                    1                     0   \n",
       "4                    0                     1   \n",
       "\n",
       "   PaymentMethod_Bank transfer (automatic)  \\\n",
       "0                                        0   \n",
       "1                                        0   \n",
       "2                                        0   \n",
       "3                                        1   \n",
       "4                                        0   \n",
       "\n",
       "   PaymentMethod_Credit card (automatic)  PaymentMethod_Electronic check  \\\n",
       "0                                      0                               1   \n",
       "1                                      0                               0   \n",
       "2                                      0                               0   \n",
       "3                                      0                               0   \n",
       "4                                      0                               1   \n",
       "\n",
       "   PaymentMethod_Mailed check  \n",
       "0                           0  \n",
       "1                           1  \n",
       "2                           1  \n",
       "3                           0  \n",
       "4                           0  "
      ]
     },
     "execution_count": 13,
     "metadata": {},
     "output_type": "execute_result"
    }
   ],
   "source": [
    "df_dummies.head()"
   ]
  },
  {
   "cell_type": "code",
   "execution_count": 14,
   "metadata": {
    "_uuid": "57fad0b9bcd9188193c84ae48ea589123532eac8"
   },
   "outputs": [
    {
     "data": {
      "text/plain": [
       "<matplotlib.axes._subplots.AxesSubplot at 0x1233f00b9a0>"
      ]
     },
     "execution_count": 14,
     "metadata": {},
     "output_type": "execute_result"
    },
    {
     "data": {
      "image/png": "[encoded data removed]",
      "text/plain": [
       "<Figure size 1152x720 with 1 Axes>"
      ]
     },
     "metadata": {
      "needs_background": "light"
     },
     "output_type": "display_data"
    }
   ],
   "source": [
    "# Korrelationsplot\n",
    "plt.figure(figsize=(16,10))\n",
    "df_dummies.corr()['Churn'].sort_values(ascending = False).plot(kind='bar')"
   ]
  },
  {
   "cell_type": "markdown",
   "metadata": {
    "_uuid": "e4f114358ce3d568a34c1ac419623274a345812e"
   },
   "source": [
    "Monatliche Verträge haben die höchste positive Korrelation mit Churn und die länge der Kundenbeziehung hat die höchste negative Korrelation.\n"
   ]
  },
  {
   "cell_type": "markdown",
   "metadata": {
    "_uuid": "36df8a7ca36ca8afe570cc985582ef12bc1bc7f8"
   },
   "source": [
    "## Datenexploration"
   ]
  },
  {
   "cell_type": "markdown",
   "metadata": {
    "_uuid": "3755c7c8080f09fc745f8db11d9205102de6780e"
   },
   "source": [
    "**Churn**\n",
    "26,6% der Kunden haben das Unternehmen innerhalb von 3 Monaten nach dem Sammeln der Originaldaten verlassen."
   ]
  },
  {
   "cell_type": "code",
   "execution_count": 15,
   "metadata": {
    "scrolled": false
   },
   "outputs": [
    {
     "data": {
      "image/png": "[encoded data removed]",
      "text/plain": [
       "<Figure size 432x288 with 1 Axes>"
      ]
     },
     "metadata": {
      "needs_background": "light"
     },
     "output_type": "display_data"
    }
   ],
   "source": [
    "ax = sns.barplot(x=\"Churn\", y=\"Churn\", data=data, estimator=lambda x: len(x) / len(df) * 100, orient=\"v\")\n",
    "ax.set_ylabel('% Customers')\n",
    "\n",
    "for p in ax.patches:\n",
    "    height = p.get_height()\n",
    "    ax.text(p.get_x()+p.get_width()/2.,\n",
    "            height - 4,\n",
    "            '{:1.2f}'.format(height),\n",
    "            fontsize=12,\n",
    "            color='white',\n",
    "            weight = 'bold',\n",
    "            ha=\"center\") "
   ]
  },
  {
   "cell_type": "markdown",
   "metadata": {},
   "source": [
    "**Gender**"
   ]
  },
  {
   "cell_type": "code",
   "execution_count": 16,
   "metadata": {},
   "outputs": [
    {
     "data": {
      "image/png": "[encoded data removed]",
      "text/plain": [
       "<Figure size 432x288 with 1 Axes>"
      ]
     },
     "metadata": {
      "needs_background": "light"
     },
     "output_type": "display_data"
    }
   ],
   "source": [
    "# Kaum Geschlechtsunterschiede zu erkennen\n",
    "ax = sns.barplot(x=\"gender\", y=\"gender\", hue=\"Churn\", data=data, estimator=lambda x: len(x) / len(df) * 100, orient=\"v\")\n",
    "ax.set_ylabel('% Customers')\n",
    "\n",
    "for p in ax.patches:\n",
    "    height = p.get_height()\n",
    "    ax.text(p.get_x()+p.get_width()/2.,\n",
    "            height - 4,\n",
    "            '{:1.2f}'.format(height),\n",
    "            fontsize=12,\n",
    "            color='white',\n",
    "            weight = 'bold',\n",
    "            ha=\"center\") "
   ]
  },
  {
   "cell_type": "markdown",
   "metadata": {
    "_uuid": "b9cceb14a980ddcd1ac36552947f1571706e0c17"
   },
   "source": [
    "**Senior Citizens**\n"
   ]
  },
  {
   "cell_type": "code",
   "execution_count": 17,
   "metadata": {
    "_uuid": "b552f24e928a6e41806ddfa10f49c331988e60e3",
    "scrolled": false
   },
   "outputs": [
    {
     "data": {
      "text/plain": [
       "Text(0.5, 1.0, '% of Senior Citizens')"
      ]
     },
     "execution_count": 17,
     "metadata": {},
     "output_type": "execute_result"
    },
    {
     "data": {
      "image/png": "[encoded data removed]",
      "text/plain": [
       "<Figure size 360x360 with 1 Axes>"
      ]
     },
     "metadata": {},
     "output_type": "display_data"
    }
   ],
   "source": [
    "ax = (data['SeniorCitizen'].value_counts()*100.0 /len(data)).plot.pie(autopct='%.1f%%', labels = ['No', 'Yes'],\n",
    "                                                                      figsize =(5,5), fontsize = 12)                                                                           \n",
    "ax.yaxis.set_major_formatter(matplotlib.ticker.PercentFormatter())\n",
    "ax.set_ylabel('Senior Citizens',fontsize = 12)\n",
    "ax.set_title('% of Senior Citizens', fontsize = 12)"
   ]
  },
  {
   "cell_type": "code",
   "execution_count": 18,
   "metadata": {},
   "outputs": [
    {
     "data": {
      "image/png": "[encoded data removed]",
      "text/plain": [
       "<Figure size 432x288 with 1 Axes>"
      ]
     },
     "metadata": {
      "needs_background": "light"
     },
     "output_type": "display_data"
    }
   ],
   "source": [
    "ax = sns.barplot(x=\"SeniorCitizen\", y=\"SeniorCitizen\", hue=\"Churn\", data=data, estimator=lambda x: len(x) / len(df) * 100, orient=\"v\")\n",
    "ax.set_ylabel('% Customers')\n",
    "\n",
    "for p in ax.patches:\n",
    "    height = p.get_height()\n",
    "    ax.text(p.get_x()+p.get_width()/2.,\n",
    "            height - 4,\n",
    "            '{:1.2f}'.format(height),\n",
    "            fontsize=12,\n",
    "            color='white',\n",
    "            weight = 'bold',\n",
    "            ha=\"center\") "
   ]
  },
  {
   "cell_type": "code",
   "execution_count": 19,
   "metadata": {},
   "outputs": [
    {
     "data": {
      "image/png": "[encoded data removed]",
      "text/plain": [
       "<Figure size 1008x432 with 1 Axes>"
      ]
     },
     "metadata": {
      "needs_background": "light"
     },
     "output_type": "display_data"
    }
   ],
   "source": [
    "# Senioren sind zwar eine kleine Gruppe unter den Kunden, aber sie verlassen das Unternehmen mit erhöhter Wahrscheinlichkeit\n",
    "colors = sns.color_palette()\n",
    "contract_churn = data.groupby(['SeniorCitizen','Churn']).size().unstack()\n",
    "\n",
    "ax = (contract_churn.T*100.0 / contract_churn.T.sum()).T.plot(kind='bar', width = 0.4, \n",
    "                                                              stacked = True, rot = 0, figsize = (14,6),color = colors)\n",
    "\n",
    "ax.yaxis.set_major_formatter(matplotlib.ticker.PercentFormatter())\n",
    "ax.legend(loc='best',prop={'size':12},title = 'Churn')\n",
    "ax.set_ylabel('% Customers',size = 14)\n",
    "ax.set_title('Churn by Senior Status',size = 14)\n",
    "\n",
    "# Code to add the data labels on the stacked bar chart\n",
    "for p in ax.patches:\n",
    "    width, height = p.get_width(), p.get_height()\n",
    "    x, y = p.get_xy() \n",
    "    ax.annotate('{:.0f}%'.format(height), (p.get_x()+.40*width, p.get_y()+.4*height),\n",
    "                color = 'white',\n",
    "               weight = 'bold',\n",
    "               size = 14)"
   ]
  },
  {
   "cell_type": "markdown",
   "metadata": {
    "_uuid": "ae9ffa571dcf10f3cb0d8dc56e827cdf25fcf4e5",
    "collapsed": true
   },
   "source": [
    "**Partner and dependent status** "
   ]
  },
  {
   "cell_type": "code",
   "execution_count": 20,
   "metadata": {
    "scrolled": true
   },
   "outputs": [
    {
     "data": {
      "image/png": "[encoded data removed]",
      "text/plain": [
       "<Figure size 432x288 with 2 Axes>"
      ]
     },
     "metadata": {
      "needs_background": "light"
     },
     "output_type": "display_data"
    }
   ],
   "source": [
    "fig, ax = plt.subplots(1,2, sharey = True)\n",
    "fig.tight_layout(pad=3.0) # add padding between subplots\n",
    "\n",
    "sns.barplot(x=\"Dependents\", y=\"Dependents\", palette=sns.color_palette(), data=data, orient=\"v\", estimator=lambda x: len(x) / len(data) * 100, ax=ax[0], order=[\"Yes\", \"No\"])\n",
    "ax[0].set(ylabel=\"Percent\")\n",
    "#ax[0].set_ylim([0,100])\n",
    "\n",
    "sns.barplot(x=\"Partner\", y=\"Partner\", palette=sns.color_palette(), data=data, orient=\"v\", estimator=lambda x: len(x) / len(data) * 100, ax=ax[1], order=[\"Yes\", \"No\"])\n",
    "ax[1].set(ylabel=\"Percent\")\n",
    "#ax[1].set_ylim([0,100])\n",
    "\n",
    "# Code to add the data labels on the stacked bar chart\n",
    "for i in [0,1]:\n",
    "    for p in ax[i].patches:\n",
    "        width, height = p.get_width(), p.get_height()\n",
    "        x, y = p.get_xy() \n",
    "        ax[i].annotate('{:.0f}%'.format(height), (p.get_x()+.25*width, p.get_y()+.7*height),\n",
    "                    color = 'white',\n",
    "                    weight = 'bold',\n",
    "                    size = 14)"
   ]
  },
  {
   "cell_type": "code",
   "execution_count": 21,
   "metadata": {
    "scrolled": true
   },
   "outputs": [
    {
     "data": {
      "image/png": "[encoded data removed]",
      "text/plain": [
       "<Figure size 432x288 with 2 Axes>"
      ]
     },
     "metadata": {
      "needs_background": "light"
     },
     "output_type": "display_data"
    }
   ],
   "source": [
    "fig, ax = plt.subplots(1,2 , sharey = True) # why no sharey\n",
    "fig.tight_layout(pad=3.0) # add padding between subplots\n",
    "\n",
    "#plt.subplot(1, 2, 1)\n",
    "ax[0]=sns.barplot(x=\"Dependents\", y=\"Dependents\", hue=\"Churn\", data=data, estimator=lambda x: len(x) / len(df) * 100, orient=\"v\", ax=ax[0], order=[\"Yes\", \"No\"])\n",
    "ax[0].set_ylabel('% Customers')\n",
    "\n",
    "#plt.subplot(1, 2, 2)\n",
    "ax[1]=sns.barplot(x=\"Partner\", y=\"Partner\", hue=\"Churn\", data=data, estimator=lambda x: len(x) / len(df) * 100, orient=\"v\", ax=ax[1], order=[\"Yes\", \"No\"])\n",
    "ax[1].set_ylabel('% Customers')\n",
    "\n",
    "for i in [0,1]:\n",
    "    for p in ax[i].patches:\n",
    "        width, height = p.get_width(), p.get_height()\n",
    "        x, y = p.get_xy() \n",
    "        ax[i].annotate('{:.0f}%'.format(height), (p.get_x()+.10*width, p.get_y()+0.8*height),\n",
    "                    color = 'black',\n",
    "                    size = 12)"
   ]
  },
  {
   "cell_type": "markdown",
   "metadata": {
    "_uuid": "3da3b87d7066955df9803b71931c5d5f7f5af1bb"
   },
   "source": [
    "Einen Partner oder abhängige Personen zu haben verringert die Wahrscheinlichkeit für Churn."
   ]
  },
  {
   "cell_type": "markdown",
   "metadata": {
    "_uuid": "479b11772e5d57dbf5a812abdd07a344e876c935"
   },
   "source": [
    "**Tenure**"
   ]
  },
  {
   "cell_type": "markdown",
   "metadata": {
    "_uuid": "d3090f6fd85039f6c67875eadf51d59b0d3c27a8"
   },
   "source": [
    "Bei der länge der Kundenbeziehung sehen wir erhöhte Konzentrationen bei sehr kurzen Beziehungen und Beziehungen die seit Beginn bestehen."
   ]
  },
  {
   "cell_type": "code",
   "execution_count": 22,
   "metadata": {
    "_uuid": "2b1dca3917424690fe006b38b03b46ebf1e751d4",
    "scrolled": true
   },
   "outputs": [
    {
     "data": {
      "text/plain": [
       "Text(0.5, 1.0, '# of Customers by their tenure')"
      ]
     },
     "execution_count": 22,
     "metadata": {},
     "output_type": "execute_result"
    },
    {
     "data": {
      "image/png": "[encoded data removed]",
      "text/plain": [
       "<Figure size 432x288 with 1 Axes>"
      ]
     },
     "metadata": {
      "needs_background": "light"
     },
     "output_type": "display_data"
    }
   ],
   "source": [
    "ax = sns.distplot(data['tenure'], hist=True, kde=False, bins=int(180/5), color = 'blue')\n",
    "ax.set_ylabel('# of Customers')\n",
    "ax.set_xlabel('Tenure (months)')\n",
    "ax.set_title('# of Customers by their tenure')"
   ]
  },
  {
   "cell_type": "code",
   "execution_count": 23,
   "metadata": {
    "_uuid": "e7643a6a6dac23d668aa512b3a922d68ed91abc4",
    "scrolled": true
   },
   "outputs": [
    {
     "data": {
      "text/plain": [
       "<matplotlib.axes._subplots.AxesSubplot at 0x1233fa65670>"
      ]
     },
     "execution_count": 23,
     "metadata": {},
     "output_type": "execute_result"
    },
    {
     "data": {
      "image/png": "[encoded data removed]",
      "text/plain": [
       "<Figure size 432x288 with 1 Axes>"
      ]
     },
     "metadata": {
      "needs_background": "light"
     },
     "output_type": "display_data"
    }
   ],
   "source": [
    "# Deutliche Unterschiede bei der Länge der Beziehung bezogen auf spätere Kundenabwanderung\n",
    "sns.boxplot(x = data.Churn, y = data.tenure)"
   ]
  },
  {
   "cell_type": "markdown",
   "metadata": {
    "_uuid": "ce5fccc67da0ea51ed1bf9a3451d9aeedfb9cd77"
   },
   "source": [
    "**Contracts**"
   ]
  },
  {
   "cell_type": "code",
   "execution_count": 24,
   "metadata": {},
   "outputs": [
    {
     "data": {
      "image/png": "[encoded data removed]",
      "text/plain": [
       "<Figure size 432x288 with 1 Axes>"
      ]
     },
     "metadata": {
      "needs_background": "light"
     },
     "output_type": "display_data"
    }
   ],
   "source": [
    "ax = sns.barplot(x=\"Contract\", y=\"Contract\", hue=\"Churn\", data=data, estimator=lambda x: len(x) / len(df) * 100, orient=\"v\")\n",
    "ax.set_ylabel('% Customers')\n",
    "\n",
    "for p in ax.patches:\n",
    "    height = p.get_height()\n",
    "    ax.text(p.get_x()+p.get_width()/2.,\n",
    "            height - 4,\n",
    "            '{:1.2f}'.format(height),\n",
    "            fontsize=12,\n",
    "            color='white',\n",
    "            weight = 'bold',\n",
    "            ha=\"center\") "
   ]
  },
  {
   "cell_type": "markdown",
   "metadata": {
    "_uuid": "cc6cac55a5511342b33fed0feaf3b9624788fd5a"
   },
   "source": [
    "It is fair to assume that tenure is related to contract type."
   ]
  },
  {
   "cell_type": "code",
   "execution_count": 25,
   "metadata": {
    "_uuid": "1a616c81b2d4153d3470010a90f03fa25767a7ed"
   },
   "outputs": [
    {
     "data": {
      "text/plain": [
       "Text(0.5, 1.0, 'Two Year Contract')"
      ]
     },
     "execution_count": 25,
     "metadata": {},
     "output_type": "execute_result"
    },
    {
     "data": {
      "image/png": "[encoded data removed]",
      "text/plain": [
       "<Figure size 1440x432 with 3 Axes>"
      ]
     },
     "metadata": {
      "needs_background": "light"
     },
     "output_type": "display_data"
    }
   ],
   "source": [
    "fig, (ax1,ax2,ax3) = plt.subplots(nrows=1, ncols=3, sharey = True, figsize = (20,6))\n",
    "\n",
    "ax = sns.distplot(data[data['Contract']=='Month-to-month']['tenure'],\n",
    "                   hist=True, kde=False,\n",
    "                   bins=int(180/5), color = 'lightgreen',\n",
    "                   hist_kws={'edgecolor':'black'}, ax=ax1)\n",
    "ax.set_ylabel('# of Customers')\n",
    "ax.set_xlabel('Tenure (months)', size=14)\n",
    "ax.set_title('Month to Month Contract', size=14)\n",
    "\n",
    "ax = sns.distplot(data[data['Contract']=='One year']['tenure'],\n",
    "                   hist=True, kde=False,\n",
    "                   bins=int(180/5), color = 'lightgrey',\n",
    "                   hist_kws={'edgecolor':'black'}, ax=ax2)\n",
    "ax.set_xlabel('Tenure (months)',size = 14)\n",
    "ax.set_title('One Year Contract',size = 14)\n",
    "\n",
    "ax = sns.distplot(data[data['Contract']=='Two year']['tenure'],\n",
    "                   hist=True, kde=False,\n",
    "                   bins=int(180/5), color = 'darkblue',\n",
    "                   hist_kws={'edgecolor':'black'}, ax=ax3)\n",
    "\n",
    "ax.set_xlabel('Tenure (months)', size=14)\n",
    "ax.set_title('Two Year Contract', size=14)"
   ]
  },
  {
   "cell_type": "markdown",
   "metadata": {
    "_uuid": "ee2411d340eb9c03cd45cbaafd391bf60f61653c"
   },
   "source": [
    "Die meisten Kunden haben einen monatliche Vertrag und nur eine kurze Verweildauer, während Personen mit 2-Jahres Verträgen häufig schon seit Beginn der Aufzeichnungen Kunden sind."
   ]
  },
  {
   "cell_type": "code",
   "execution_count": 26,
   "metadata": {},
   "outputs": [
    {
     "data": {
      "image/png": "[encoded data removed]",
      "text/plain": [
       "<Figure size 1008x432 with 1 Axes>"
      ]
     },
     "metadata": {
      "needs_background": "light"
     },
     "output_type": "display_data"
    }
   ],
   "source": [
    "# Churn findet sich auch hauptsächlich in den monatlichen Verträgen\n",
    "colors = sns.color_palette()\n",
    "contract_churn = data.groupby(['Contract','Churn']).size().unstack()\n",
    "\n",
    "ax = (contract_churn.T*100.0 / contract_churn.T.sum()).T.plot(kind='bar', width = 0.4, \n",
    "                                                              stacked = True, rot = 0, figsize = (14,6),color = colors)\n",
    "\n",
    "ax.yaxis.set_major_formatter(matplotlib.ticker.PercentFormatter())\n",
    "ax.legend(loc='best',prop={'size':12},title = 'Churn')\n",
    "ax.set_ylabel('% Customers',size = 14)\n",
    "ax.set_title('Churn by Contract',size = 14)\n",
    "\n",
    "# Code to add the data labels on the stacked bar chart\n",
    "for p in ax.patches:\n",
    "    width, height = p.get_width(), p.get_height()\n",
    "    x, y = p.get_xy() \n",
    "    ax.annotate('{:.0f}%'.format(height), (p.get_x()+.40*width, p.get_y()+.4*height),\n",
    "                color = 'black',\n",
    "               weight = 'bold',\n",
    "               size = 14)"
   ]
  },
  {
   "cell_type": "markdown",
   "metadata": {
    "_uuid": "7f912f0a732097de7c35920ea25ccf14cd05cc13"
   },
   "source": [
    "**Services**"
   ]
  },
  {
   "cell_type": "code",
   "execution_count": 27,
   "metadata": {
    "_uuid": "961cdb51ddd3ccb110555b359394d823c33df66b"
   },
   "outputs": [
    {
     "data": {
      "text/plain": [
       "array(['customerID', 'gender', 'SeniorCitizen', 'Partner', 'Dependents',\n",
       "       'tenure', 'PhoneService', 'MultipleLines', 'InternetService',\n",
       "       'OnlineSecurity', 'OnlineBackup', 'DeviceProtection',\n",
       "       'TechSupport', 'StreamingTV', 'StreamingMovies', 'Contract',\n",
       "       'PaperlessBilling', 'PaymentMethod', 'MonthlyCharges',\n",
       "       'TotalCharges', 'Churn'], dtype=object)"
      ]
     },
     "execution_count": 27,
     "metadata": {},
     "output_type": "execute_result"
    }
   ],
   "source": [
    "data.columns.values"
   ]
  },
  {
   "cell_type": "code",
   "execution_count": 28,
   "metadata": {
    "_uuid": "8503e680b82a2492bfed8f29dd2d13dafb7ed661"
   },
   "outputs": [
    {
     "data": {
      "image/png": "[encoded data removed]",
      "text/plain": [
       "<Figure size 1080x864 with 9 Axes>"
      ]
     },
     "metadata": {
      "needs_background": "light"
     },
     "output_type": "display_data"
    }
   ],
   "source": [
    "services = ['PhoneService','MultipleLines','InternetService','OnlineSecurity',\n",
    "           'OnlineBackup','DeviceProtection','TechSupport','StreamingTV','StreamingMovies']\n",
    "\n",
    "fig, axes = plt.subplots(nrows = 3,ncols = 3,figsize = (15,12))\n",
    "for i, item in enumerate(services):\n",
    "    if i < 3:\n",
    "        ax = data[item].value_counts().plot(kind = 'bar',ax=axes[i,0], rot = 0)\n",
    "        \n",
    "    elif i >=3 and i < 6:\n",
    "        ax = data[item].value_counts().plot(kind = 'bar',ax=axes[i-3,1],rot = 0)\n",
    "        \n",
    "    elif i < 9:\n",
    "        ax = data[item].value_counts().plot(kind = 'bar',ax=axes[i-6,2],rot = 0)\n",
    "    ax.set_title(item)"
   ]
  },
  {
   "cell_type": "markdown",
   "metadata": {
    "_uuid": "bd0851a067af76d101f72fc4eb2f95bea547eda3"
   },
   "source": [
    "**Churn by Monthly Charges**"
   ]
  },
  {
   "cell_type": "code",
   "execution_count": 29,
   "metadata": {
    "_uuid": "fa0b5fc6c8ee5f284c0f8515c297d6765cc2b807",
    "scrolled": true
   },
   "outputs": [
    {
     "data": {
      "text/plain": [
       "Text(0.5, 1.0, 'Distribution of monthly charges with churn')"
      ]
     },
     "execution_count": 29,
     "metadata": {},
     "output_type": "execute_result"
    },
    {
     "data": {
      "image/png": "[encoded data removed]",
      "text/plain": [
       "<Figure size 432x288 with 1 Axes>"
      ]
     },
     "metadata": {
      "needs_background": "light"
     },
     "output_type": "display_data"
    }
   ],
   "source": [
    "ax = sns.kdeplot(data.MonthlyCharges[(data[\"Churn\"] == 'No') ], color=\"Blue\", shade = True)\n",
    "\n",
    "ax = sns.kdeplot(data.MonthlyCharges[(data[\"Churn\"] == 'Yes') ], ax =ax, color=\"Red\", shade= True)\n",
    "\n",
    "ax.legend([\"Not Churn\",\"Churn\"],loc='upper right')\n",
    "ax.set_ylabel('Density')\n",
    "ax.set_xlabel('Monthly Charges')\n",
    "ax.set_title('Distribution of monthly charges with churn')"
   ]
  },
  {
   "cell_type": "markdown",
   "metadata": {},
   "source": [
    "Wir sehen verschiedene Konzentrationen der monatlichen Beiträge zwischen Churn und nicht-Churn. Geringe Beiträge gibt es vor allem bei Kunden die uns erhalten bleiben und abwandernde Kunden haben ungewöhnlich häufig sehr hohe monatliche Kosten."
   ]
  },
  {
   "cell_type": "markdown",
   "metadata": {
    "_uuid": "f6cc05bc4205538c60a69ad00ce742118a21786d"
   },
   "source": [
    "**Churn by Total Charges**"
   ]
  },
  {
   "cell_type": "code",
   "execution_count": 30,
   "metadata": {
    "_uuid": "73b499447ad1d100aae396cb5b7d16533f153219",
    "scrolled": false
   },
   "outputs": [
    {
     "data": {
      "text/plain": [
       "Text(0.5, 1.0, 'Distribution of total charges with churn')"
      ]
     },
     "execution_count": 30,
     "metadata": {},
     "output_type": "execute_result"
    },
    {
     "data": {
      "image/png": "[encoded data removed]",
      "text/plain": [
       "<Figure size 432x288 with 1 Axes>"
      ]
     },
     "metadata": {
      "needs_background": "light"
     },
     "output_type": "display_data"
    }
   ],
   "source": [
    "ax = sns.kdeplot(data.TotalCharges[(data[\"Churn\"] == 'No') ], color=\"Blue\", shade = True)\n",
    "\n",
    "ax = sns.kdeplot(data.TotalCharges[(data[\"Churn\"] == 'Yes') ], ax =ax, color=\"Red\", shade= True)\n",
    "\n",
    "ax.legend([\"Not Churn\",\"Churn\"],loc='upper right')\n",
    "ax.set_ylabel('Density')\n",
    "ax.set_xlabel('Total Charges')\n",
    "ax.set_title('Distribution of total charges with churn')"
   ]
  },
  {
   "cell_type": "markdown",
   "metadata": {},
   "source": [
    "Die kummulierten Beiträge zeigen ein ähnliches Bild."
   ]
  },
  {
   "cell_type": "markdown",
   "metadata": {},
   "source": [
    "---"
   ]
  },
  {
   "cell_type": "markdown",
   "metadata": {
    "_uuid": "a253e14489981fb89ac3a36849432549f442695d"
   },
   "source": [
    "## Erstellung von Vorhersagemodellen"
   ]
  },
  {
   "cell_type": "code",
   "execution_count": 31,
   "metadata": {
    "scrolled": false
   },
   "outputs": [
    {
     "name": "stdout",
     "output_type": "stream",
     "text": [
      "Requirement already satisfied: lightgbm in c:\\users\\stephanneureiter\\anaconda3\\lib\\site-packages (3.1.0)\n",
      "Requirement already satisfied: numpy in c:\\users\\stephanneureiter\\anaconda3\\lib\\site-packages (from lightgbm) (1.18.5)\n",
      "Note: you may need to restart the kernel to use updated packages.Requirement already satisfied: scipy in c:\\users\\stephanneureiter\\anaconda3\\lib\\site-packages (from lightgbm) (1.5.0)\n",
      "Requirement already satisfied: scikit-learn!=0.22.0 in c:\\users\\stephanneureiter\\anaconda3\\lib\\site-packages (from lightgbm) (0.23.1)\n",
      "Requirement already satisfied: threadpoolctl>=2.0.0 in c:\\users\\stephanneureiter\\anaconda3\\lib\\site-packages (from scikit-learn!=0.22.0->lightgbm) (2.1.0)\n",
      "Requirement already satisfied: joblib>=0.11 in c:\\users\\stephanneureiter\\anaconda3\\lib\\site-packages (from scikit-learn!=0.22.0->lightgbm) (0.16.0)\n",
      "\n",
      "Requirement already satisfied: catboost in c:\\users\\stephanneureiter\\anaconda3\\lib\\site-packages (0.24.2)\n",
      "Requirement already satisfied: graphviz in c:\\users\\stephanneureiter\\anaconda3\\lib\\site-packages (from catboost) (0.15)\n",
      "Requirement already satisfied: plotly in c:\\users\\stephanneureiter\\anaconda3\\lib\\site-packages (from catboost) (4.12.0)\n",
      "Requirement already satisfied: pandas>=0.24.0 in c:\\users\\stephanneureiter\\anaconda3\\lib\\site-packages (from catboost) (1.0.5)\n",
      "Requirement already satisfied: scipy in c:\\users\\stephanneureiter\\anaconda3\\lib\\site-packages (from catboost) (1.5.0)\n",
      "Requirement already satisfied: numpy>=1.16.0 in c:\\users\\stephanneureiter\\anaconda3\\lib\\site-packages (from catboost) (1.18.5)\n",
      "Requirement already satisfied: matplotlib in c:\\users\\stephanneureiter\\anaconda3\\lib\\site-packages (from catboost) (3.2.2)\n",
      "Requirement already satisfied: six in c:\\users\\stephanneureiter\\anaconda3\\lib\\site-packages (from catboost) (1.15.0)\n",
      "Requirement already satisfied: retrying>=1.3.3 in c:\\users\\stephanneureiter\\anaconda3\\lib\\site-packages (from plotly->catboost) (1.3.3)\n",
      "Requirement already satisfied: pytz>=2017.2 in c:\\users\\stephanneureiter\\anaconda3\\lib\\site-packages (from pandas>=0.24.0->catboost) (2020.1)\n",
      "Requirement already satisfied: python-dateutil>=2.6.1 in c:\\users\\stephanneureiter\\anaconda3\\lib\\site-packages (from pandas>=0.24.0->catboost) (2.8.1)\n",
      "Requirement already satisfied: cycler>=0.10 in c:\\users\\stephanneureiter\\anaconda3\\lib\\site-packages (from matplotlib->catboost) (0.10.0)\n",
      "Requirement already satisfied: pyparsing!=2.0.4,!=2.1.2,!=2.1.6,>=2.0.1 in c:\\users\\stephanneureiter\\anaconda3\\lib\\site-packages (from matplotlib->catboost) (2.4.7)\n",
      "Requirement already satisfied: kiwisolver>=1.0.1 in c:\\users\\stephanneureiter\\anaconda3\\lib\\site-packages (from matplotlib->catboost) (1.2.0)\n",
      "Note: you may need to restart the kernel to use updated packages.\n"
     ]
    }
   ],
   "source": [
    "# Installieren der Gradient Boosting libraries\n",
    "%pip install lightgbm\n",
    "%pip install catboost"
   ]
  },
  {
   "cell_type": "code",
   "execution_count": 32,
   "metadata": {},
   "outputs": [],
   "source": [
    "# Recursive Feature elimination am Beispiel eines logistischen Regressionsmodells und eines Random Forest Klassifikators"
   ]
  },
  {
   "cell_type": "code",
   "execution_count": 33,
   "metadata": {},
   "outputs": [],
   "source": [
    "# Aufteilen der Daten in unabhängige und abhängige Variablen\n",
    "y = df_dummies['Churn'].values\n",
    "X = df_dummies.drop(columns = ['Churn'])"
   ]
  },
  {
   "cell_type": "code",
   "execution_count": 34,
   "metadata": {},
   "outputs": [],
   "source": [
    "# Skalierung der numerischen Variablen für die logistische Regression\n",
    "from sklearn.preprocessing import StandardScaler\n",
    "scaler = StandardScaler()\n",
    "X[['tenure', \"MonthlyCharges\", 'TotalCharges']] = scaler.fit_transform(X[['tenure', \"MonthlyCharges\", 'TotalCharges']].to_numpy())"
   ]
  },
  {
   "cell_type": "code",
   "execution_count": 35,
   "metadata": {},
   "outputs": [],
   "source": [
    "# Erstellung eines Train- und eines Testsets\n",
    "from sklearn.model_selection import train_test_split\n",
    "X_train, X_test, y_train, y_test = train_test_split(X, y, test_size=0.2, random_state=99)"
   ]
  },
  {
   "cell_type": "code",
   "execution_count": 36,
   "metadata": {},
   "outputs": [
    {
     "name": "stderr",
     "output_type": "stream",
     "text": [
      "C:\\Users\\StephanNeureiter\\anaconda3\\lib\\site-packages\\sklearn\\utils\\validation.py:68: FutureWarning: Pass n_features_to_select=7 as keyword args. From version 0.25 passing these as positional arguments will result in an error\n",
      "  warnings.warn(\"Pass {} as keyword args. From version 0.25 \"\n"
     ]
    },
    {
     "name": "stdout",
     "output_type": "stream",
     "text": [
      "Num Features: 7\n",
      "Selected Features: [False  True False False False False False False False False False False\n",
      " False False False False  True  True False False False False False False\n",
      " False False False False  True False False False  True False False False\n",
      "  True False  True False False False False False False]\n",
      "Feature Ranking: [12  1  2  4 18 34 37 38 22 16 27 23  9 25 24  7  1  1 10 14 26 28 19 39\n",
      " 35 17 36  8  1 21 20 11  1 33 13  3  1 29  1 15  6 31 30  5 32]\n"
     ]
    }
   ],
   "source": [
    "# Logistische Regression\n",
    "from sklearn.linear_model import LogisticRegression\n",
    "from sklearn.feature_selection import RFE\n",
    "model = LogisticRegression(max_iter=1000)\n",
    "# Hier Wahl der 7 bedeutendsten Feature\n",
    "rfe = RFE(model, 7)\n",
    "fit = rfe.fit(X_train, y_train)\n",
    "print(\"Num Features: %d\" % fit.n_features_)\n",
    "print(\"Selected Features: %s\" % fit.support_)\n",
    "print(\"Feature Ranking: %s\" % fit.ranking_)"
   ]
  },
  {
   "cell_type": "code",
   "execution_count": 37,
   "metadata": {},
   "outputs": [
    {
     "data": {
      "text/html": [
       "<div>\n",
       "<style scoped>\n",
       "    .dataframe tbody tr th:only-of-type {\n",
       "        vertical-align: middle;\n",
       "    }\n",
       "\n",
       "    .dataframe tbody tr th {\n",
       "        vertical-align: top;\n",
       "    }\n",
       "\n",
       "    .dataframe thead th {\n",
       "        text-align: right;\n",
       "    }\n",
       "</style>\n",
       "<table border=\"1\" class=\"dataframe\">\n",
       "  <thead>\n",
       "    <tr style=\"text-align: right;\">\n",
       "      <th></th>\n",
       "      <th>tenure</th>\n",
       "      <th>InternetService_Fiber optic</th>\n",
       "      <th>InternetService_No</th>\n",
       "      <th>TechSupport_No internet service</th>\n",
       "      <th>StreamingTV_Yes</th>\n",
       "      <th>Contract_Month-to-month</th>\n",
       "      <th>Contract_Two year</th>\n",
       "    </tr>\n",
       "  </thead>\n",
       "  <tbody>\n",
       "    <tr>\n",
       "      <th>1780</th>\n",
       "      <td>-0.587601</td>\n",
       "      <td>0</td>\n",
       "      <td>1</td>\n",
       "      <td>1</td>\n",
       "      <td>0</td>\n",
       "      <td>0</td>\n",
       "      <td>0</td>\n",
       "    </tr>\n",
       "    <tr>\n",
       "      <th>1827</th>\n",
       "      <td>0.512486</td>\n",
       "      <td>0</td>\n",
       "      <td>0</td>\n",
       "      <td>0</td>\n",
       "      <td>1</td>\n",
       "      <td>1</td>\n",
       "      <td>0</td>\n",
       "    </tr>\n",
       "    <tr>\n",
       "      <th>5422</th>\n",
       "      <td>1.449597</td>\n",
       "      <td>0</td>\n",
       "      <td>0</td>\n",
       "      <td>0</td>\n",
       "      <td>0</td>\n",
       "      <td>0</td>\n",
       "      <td>1</td>\n",
       "    </tr>\n",
       "    <tr>\n",
       "      <th>1716</th>\n",
       "      <td>-0.995040</td>\n",
       "      <td>0</td>\n",
       "      <td>0</td>\n",
       "      <td>0</td>\n",
       "      <td>0</td>\n",
       "      <td>1</td>\n",
       "      <td>0</td>\n",
       "    </tr>\n",
       "    <tr>\n",
       "      <th>5415</th>\n",
       "      <td>-0.587601</td>\n",
       "      <td>0</td>\n",
       "      <td>0</td>\n",
       "      <td>0</td>\n",
       "      <td>0</td>\n",
       "      <td>1</td>\n",
       "      <td>0</td>\n",
       "    </tr>\n",
       "    <tr>\n",
       "      <th>...</th>\n",
       "      <td>...</td>\n",
       "      <td>...</td>\n",
       "      <td>...</td>\n",
       "      <td>...</td>\n",
       "      <td>...</td>\n",
       "      <td>...</td>\n",
       "      <td>...</td>\n",
       "    </tr>\n",
       "    <tr>\n",
       "      <th>1773</th>\n",
       "      <td>1.449597</td>\n",
       "      <td>0</td>\n",
       "      <td>1</td>\n",
       "      <td>1</td>\n",
       "      <td>0</td>\n",
       "      <td>0</td>\n",
       "      <td>1</td>\n",
       "    </tr>\n",
       "    <tr>\n",
       "      <th>1742</th>\n",
       "      <td>-1.239504</td>\n",
       "      <td>1</td>\n",
       "      <td>0</td>\n",
       "      <td>0</td>\n",
       "      <td>1</td>\n",
       "      <td>1</td>\n",
       "      <td>0</td>\n",
       "    </tr>\n",
       "    <tr>\n",
       "      <th>3245</th>\n",
       "      <td>-0.383881</td>\n",
       "      <td>1</td>\n",
       "      <td>0</td>\n",
       "      <td>0</td>\n",
       "      <td>0</td>\n",
       "      <td>1</td>\n",
       "      <td>0</td>\n",
       "    </tr>\n",
       "    <tr>\n",
       "      <th>5314</th>\n",
       "      <td>1.531085</td>\n",
       "      <td>0</td>\n",
       "      <td>0</td>\n",
       "      <td>0</td>\n",
       "      <td>1</td>\n",
       "      <td>0</td>\n",
       "      <td>1</td>\n",
       "    </tr>\n",
       "    <tr>\n",
       "      <th>4745</th>\n",
       "      <td>0.064303</td>\n",
       "      <td>1</td>\n",
       "      <td>0</td>\n",
       "      <td>0</td>\n",
       "      <td>1</td>\n",
       "      <td>1</td>\n",
       "      <td>0</td>\n",
       "    </tr>\n",
       "  </tbody>\n",
       "</table>\n",
       "<p>5625 rows × 7 columns</p>\n",
       "</div>"
      ],
      "text/plain": [
       "        tenure  InternetService_Fiber optic  InternetService_No  \\\n",
       "1780 -0.587601                            0                   1   \n",
       "1827  0.512486                            0                   0   \n",
       "5422  1.449597                            0                   0   \n",
       "1716 -0.995040                            0                   0   \n",
       "5415 -0.587601                            0                   0   \n",
       "...        ...                          ...                 ...   \n",
       "1773  1.449597                            0                   1   \n",
       "1742 -1.239504                            1                   0   \n",
       "3245 -0.383881                            1                   0   \n",
       "5314  1.531085                            0                   0   \n",
       "4745  0.064303                            1                   0   \n",
       "\n",
       "      TechSupport_No internet service  StreamingTV_Yes  \\\n",
       "1780                                1                0   \n",
       "1827                                0                1   \n",
       "5422                                0                0   \n",
       "1716                                0                0   \n",
       "5415                                0                0   \n",
       "...                               ...              ...   \n",
       "1773                                1                0   \n",
       "1742                                0                1   \n",
       "3245                                0                0   \n",
       "5314                                0                1   \n",
       "4745                                0                1   \n",
       "\n",
       "      Contract_Month-to-month  Contract_Two year  \n",
       "1780                        0                  0  \n",
       "1827                        1                  0  \n",
       "5422                        0                  1  \n",
       "1716                        1                  0  \n",
       "5415                        1                  0  \n",
       "...                       ...                ...  \n",
       "1773                        0                  1  \n",
       "1742                        1                  0  \n",
       "3245                        1                  0  \n",
       "5314                        0                  1  \n",
       "4745                        1                  0  \n",
       "\n",
       "[5625 rows x 7 columns]"
      ]
     },
     "execution_count": 37,
     "metadata": {},
     "output_type": "execute_result"
    }
   ],
   "source": [
    "X_train.loc[:, fit.support_]"
   ]
  },
  {
   "cell_type": "code",
   "execution_count": 38,
   "metadata": {},
   "outputs": [
    {
     "name": "stderr",
     "output_type": "stream",
     "text": [
      "C:\\Users\\StephanNeureiter\\anaconda3\\lib\\site-packages\\sklearn\\utils\\validation.py:68: FutureWarning: Pass n_features_to_select=7 as keyword args. From version 0.25 passing these as positional arguments will result in an error\n",
      "  warnings.warn(\"Pass {} as keyword args. From version 0.25 \"\n"
     ]
    },
    {
     "name": "stdout",
     "output_type": "stream",
     "text": [
      "Num Features: 7\n",
      "Selected Features: [False  True  True  True False False False False False False False False\n",
      " False False False False  True False  True False False False False False\n",
      " False False False  True False False False False False False False False\n",
      "  True False False False False False False False False]\n",
      "Feature Ranking: [ 9  1  1  1  3 12 17  6 22 10 36 32  8 30 18 27  1 33  1 39 26  5 37 20\n",
      "  7 31 23  1 38 29 28 35 13 11 34 21  1 25 14 16  4 19 15  2 24]\n"
     ]
    }
   ],
   "source": [
    "# Random Forest\n",
    "from sklearn.ensemble import RandomForestClassifier\n",
    "model = RandomForestClassifier(random_state = 99)\n",
    "# Hier Wahl der 7 bedeutendsten Feature\n",
    "rfe = RFE(model, 7)\n",
    "fit = rfe.fit(X_train, y_train)\n",
    "print(\"Num Features: %d\" % fit.n_features_)\n",
    "print(\"Selected Features: %s\" % fit.support_)\n",
    "print(\"Feature Ranking: %s\" % fit.ranking_)"
   ]
  },
  {
   "cell_type": "code",
   "execution_count": 39,
   "metadata": {},
   "outputs": [
    {
     "data": {
      "text/html": [
       "<div>\n",
       "<style scoped>\n",
       "    .dataframe tbody tr th:only-of-type {\n",
       "        vertical-align: middle;\n",
       "    }\n",
       "\n",
       "    .dataframe tbody tr th {\n",
       "        vertical-align: top;\n",
       "    }\n",
       "\n",
       "    .dataframe thead th {\n",
       "        text-align: right;\n",
       "    }\n",
       "</style>\n",
       "<table border=\"1\" class=\"dataframe\">\n",
       "  <thead>\n",
       "    <tr style=\"text-align: right;\">\n",
       "      <th></th>\n",
       "      <th>tenure</th>\n",
       "      <th>MonthlyCharges</th>\n",
       "      <th>TotalCharges</th>\n",
       "      <th>InternetService_Fiber optic</th>\n",
       "      <th>OnlineSecurity_No</th>\n",
       "      <th>TechSupport_No</th>\n",
       "      <th>Contract_Month-to-month</th>\n",
       "    </tr>\n",
       "  </thead>\n",
       "  <tbody>\n",
       "    <tr>\n",
       "      <th>1780</th>\n",
       "      <td>-0.587601</td>\n",
       "      <td>-1.484126</td>\n",
       "      <td>-0.834925</td>\n",
       "      <td>0</td>\n",
       "      <td>0</td>\n",
       "      <td>0</td>\n",
       "      <td>0</td>\n",
       "    </tr>\n",
       "    <tr>\n",
       "      <th>1827</th>\n",
       "      <td>0.512486</td>\n",
       "      <td>-0.461983</td>\n",
       "      <td>0.022302</td>\n",
       "      <td>0</td>\n",
       "      <td>0</td>\n",
       "      <td>1</td>\n",
       "      <td>1</td>\n",
       "    </tr>\n",
       "    <tr>\n",
       "      <th>5422</th>\n",
       "      <td>1.449597</td>\n",
       "      <td>-0.071407</td>\n",
       "      <td>0.923185</td>\n",
       "      <td>0</td>\n",
       "      <td>0</td>\n",
       "      <td>0</td>\n",
       "      <td>0</td>\n",
       "    </tr>\n",
       "    <tr>\n",
       "      <th>1716</th>\n",
       "      <td>-0.995040</td>\n",
       "      <td>-0.334007</td>\n",
       "      <td>-0.814101</td>\n",
       "      <td>0</td>\n",
       "      <td>1</td>\n",
       "      <td>1</td>\n",
       "      <td>1</td>\n",
       "    </tr>\n",
       "    <tr>\n",
       "      <th>5415</th>\n",
       "      <td>-0.587601</td>\n",
       "      <td>-0.481927</td>\n",
       "      <td>-0.604427</td>\n",
       "      <td>0</td>\n",
       "      <td>1</td>\n",
       "      <td>1</td>\n",
       "      <td>1</td>\n",
       "    </tr>\n",
       "    <tr>\n",
       "      <th>...</th>\n",
       "      <td>...</td>\n",
       "      <td>...</td>\n",
       "      <td>...</td>\n",
       "      <td>...</td>\n",
       "      <td>...</td>\n",
       "      <td>...</td>\n",
       "      <td>...</td>\n",
       "    </tr>\n",
       "    <tr>\n",
       "      <th>1773</th>\n",
       "      <td>1.449597</td>\n",
       "      <td>-1.510719</td>\n",
       "      <td>-0.437063</td>\n",
       "      <td>0</td>\n",
       "      <td>0</td>\n",
       "      <td>0</td>\n",
       "      <td>0</td>\n",
       "    </tr>\n",
       "    <tr>\n",
       "      <th>1742</th>\n",
       "      <td>-1.239504</td>\n",
       "      <td>0.742983</td>\n",
       "      <td>-0.926295</td>\n",
       "      <td>1</td>\n",
       "      <td>1</td>\n",
       "      <td>1</td>\n",
       "      <td>1</td>\n",
       "    </tr>\n",
       "    <tr>\n",
       "      <th>3245</th>\n",
       "      <td>-0.383881</td>\n",
       "      <td>0.631628</td>\n",
       "      <td>-0.168997</td>\n",
       "      <td>1</td>\n",
       "      <td>1</td>\n",
       "      <td>0</td>\n",
       "      <td>1</td>\n",
       "    </tr>\n",
       "    <tr>\n",
       "      <th>5314</th>\n",
       "      <td>1.531085</td>\n",
       "      <td>-0.008251</td>\n",
       "      <td>0.980142</td>\n",
       "      <td>0</td>\n",
       "      <td>0</td>\n",
       "      <td>0</td>\n",
       "      <td>0</td>\n",
       "    </tr>\n",
       "    <tr>\n",
       "      <th>4745</th>\n",
       "      <td>0.064303</td>\n",
       "      <td>1.185081</td>\n",
       "      <td>0.499137</td>\n",
       "      <td>1</td>\n",
       "      <td>1</td>\n",
       "      <td>1</td>\n",
       "      <td>1</td>\n",
       "    </tr>\n",
       "  </tbody>\n",
       "</table>\n",
       "<p>5625 rows × 7 columns</p>\n",
       "</div>"
      ],
      "text/plain": [
       "        tenure  MonthlyCharges  TotalCharges  InternetService_Fiber optic  \\\n",
       "1780 -0.587601       -1.484126     -0.834925                            0   \n",
       "1827  0.512486       -0.461983      0.022302                            0   \n",
       "5422  1.449597       -0.071407      0.923185                            0   \n",
       "1716 -0.995040       -0.334007     -0.814101                            0   \n",
       "5415 -0.587601       -0.481927     -0.604427                            0   \n",
       "...        ...             ...           ...                          ...   \n",
       "1773  1.449597       -1.510719     -0.437063                            0   \n",
       "1742 -1.239504        0.742983     -0.926295                            1   \n",
       "3245 -0.383881        0.631628     -0.168997                            1   \n",
       "5314  1.531085       -0.008251      0.980142                            0   \n",
       "4745  0.064303        1.185081      0.499137                            1   \n",
       "\n",
       "      OnlineSecurity_No  TechSupport_No  Contract_Month-to-month  \n",
       "1780                  0               0                        0  \n",
       "1827                  0               1                        1  \n",
       "5422                  0               0                        0  \n",
       "1716                  1               1                        1  \n",
       "5415                  1               1                        1  \n",
       "...                 ...             ...                      ...  \n",
       "1773                  0               0                        0  \n",
       "1742                  1               1                        1  \n",
       "3245                  1               0                        1  \n",
       "5314                  0               0                        0  \n",
       "4745                  1               1                        1  \n",
       "\n",
       "[5625 rows x 7 columns]"
      ]
     },
     "execution_count": 39,
     "metadata": {},
     "output_type": "execute_result"
    }
   ],
   "source": [
    "X_train.loc[:, fit.support_]"
   ]
  },
  {
   "cell_type": "code",
   "execution_count": 40,
   "metadata": {},
   "outputs": [
    {
     "data": {
      "text/plain": [
       "'[\"Churn\", \"tenure\", \"InternetService_Fiber optic\", \"TechSupport_No internet service\", \"Contract_Month-to-month\", \"Contract_Two year\",\\n\"MonthlyCharges\", \"TotalCharges\", \"OnlineSecurity_No\"]'"
      ]
     },
     "execution_count": 40,
     "metadata": {},
     "output_type": "execute_result"
    }
   ],
   "source": [
    "# Zusammenführen der relevanten Variablen aus den verschiedenen Ansätzen\n",
    "# Top 7 Variablen von beiden Modellen\n",
    "[\"Churn\", \"tenure\", \"InternetService_Fiber optic\", \"InternetService_No\", \"TechSupport_No internet service\", \"StreamingTV_Yes\", \"Contract_Month-to-month\", \"Contract_Two year\",\n",
    "\"MonthlyCharges\", \"TotalCharges\", \"OnlineSecurity_No\", \"TechSupport_No\"]\n",
    "\n",
    "# Top 5 Variablen von beiden Modellen\n",
    "'''[\"Churn\", \"tenure\", \"InternetService_Fiber optic\", \"TechSupport_No internet service\", \"Contract_Month-to-month\", \"Contract_Two year\",\n",
    "\"MonthlyCharges\", \"TotalCharges\", \"OnlineSecurity_No\"]'''"
   ]
  },
  {
   "cell_type": "code",
   "execution_count": 41,
   "metadata": {},
   "outputs": [
    {
     "data": {
      "text/plain": [
       "'# Top 5\\ndf_dummies2 = df_dummies[[\"Churn\", \"tenure\", \"InternetService_Fiber optic\", \"TechSupport_No internet service\", \"Contract_Month-to-month\", \"Contract_Two year\",\\n\"MonthlyCharges\", \"TotalCharges\", \"OnlineSecurity_No\"]]\\n'"
      ]
     },
     "execution_count": 41,
     "metadata": {},
     "output_type": "execute_result"
    }
   ],
   "source": [
    "# Erstelle neuen Dataframe zugeschnitten auf die relevanten Variablen\n",
    "# Top 7\n",
    "df_dummies2 = df_dummies[[\"Churn\", \"tenure\", \"InternetService_Fiber optic\", \"InternetService_No\", \"TechSupport_No internet service\", \"StreamingTV_Yes\", \"Contract_Month-to-month\", \"Contract_Two year\",\n",
    "\"MonthlyCharges\", \"TotalCharges\", \"OnlineSecurity_No\", \"TechSupport_No\"]]\n",
    "\n",
    "'''# Top 5\n",
    "df_dummies2 = df_dummies[[\"Churn\", \"tenure\", \"InternetService_Fiber optic\", \"TechSupport_No internet service\", \"Contract_Month-to-month\", \"Contract_Two year\",\n",
    "\"MonthlyCharges\", \"TotalCharges\", \"OnlineSecurity_No\"]]\n",
    "'''"
   ]
  },
  {
   "cell_type": "code",
   "execution_count": 42,
   "metadata": {
    "scrolled": true
   },
   "outputs": [
    {
     "data": {
      "text/html": [
       "<div>\n",
       "<style scoped>\n",
       "    .dataframe tbody tr th:only-of-type {\n",
       "        vertical-align: middle;\n",
       "    }\n",
       "\n",
       "    .dataframe tbody tr th {\n",
       "        vertical-align: top;\n",
       "    }\n",
       "\n",
       "    .dataframe thead th {\n",
       "        text-align: right;\n",
       "    }\n",
       "</style>\n",
       "<table border=\"1\" class=\"dataframe\">\n",
       "  <thead>\n",
       "    <tr style=\"text-align: right;\">\n",
       "      <th></th>\n",
       "      <th>Churn</th>\n",
       "      <th>tenure</th>\n",
       "      <th>InternetService_Fiber optic</th>\n",
       "      <th>InternetService_No</th>\n",
       "      <th>TechSupport_No internet service</th>\n",
       "      <th>StreamingTV_Yes</th>\n",
       "      <th>Contract_Month-to-month</th>\n",
       "      <th>Contract_Two year</th>\n",
       "      <th>MonthlyCharges</th>\n",
       "      <th>TotalCharges</th>\n",
       "      <th>OnlineSecurity_No</th>\n",
       "      <th>TechSupport_No</th>\n",
       "    </tr>\n",
       "  </thead>\n",
       "  <tbody>\n",
       "    <tr>\n",
       "      <th>0</th>\n",
       "      <td>0</td>\n",
       "      <td>1</td>\n",
       "      <td>0</td>\n",
       "      <td>0</td>\n",
       "      <td>0</td>\n",
       "      <td>0</td>\n",
       "      <td>1</td>\n",
       "      <td>0</td>\n",
       "      <td>29.85</td>\n",
       "      <td>29.85</td>\n",
       "      <td>1</td>\n",
       "      <td>1</td>\n",
       "    </tr>\n",
       "    <tr>\n",
       "      <th>1</th>\n",
       "      <td>0</td>\n",
       "      <td>34</td>\n",
       "      <td>0</td>\n",
       "      <td>0</td>\n",
       "      <td>0</td>\n",
       "      <td>0</td>\n",
       "      <td>0</td>\n",
       "      <td>0</td>\n",
       "      <td>56.95</td>\n",
       "      <td>1889.50</td>\n",
       "      <td>0</td>\n",
       "      <td>1</td>\n",
       "    </tr>\n",
       "    <tr>\n",
       "      <th>2</th>\n",
       "      <td>1</td>\n",
       "      <td>2</td>\n",
       "      <td>0</td>\n",
       "      <td>0</td>\n",
       "      <td>0</td>\n",
       "      <td>0</td>\n",
       "      <td>1</td>\n",
       "      <td>0</td>\n",
       "      <td>53.85</td>\n",
       "      <td>108.15</td>\n",
       "      <td>0</td>\n",
       "      <td>1</td>\n",
       "    </tr>\n",
       "    <tr>\n",
       "      <th>3</th>\n",
       "      <td>0</td>\n",
       "      <td>45</td>\n",
       "      <td>0</td>\n",
       "      <td>0</td>\n",
       "      <td>0</td>\n",
       "      <td>0</td>\n",
       "      <td>0</td>\n",
       "      <td>0</td>\n",
       "      <td>42.30</td>\n",
       "      <td>1840.75</td>\n",
       "      <td>0</td>\n",
       "      <td>0</td>\n",
       "    </tr>\n",
       "    <tr>\n",
       "      <th>4</th>\n",
       "      <td>1</td>\n",
       "      <td>2</td>\n",
       "      <td>1</td>\n",
       "      <td>0</td>\n",
       "      <td>0</td>\n",
       "      <td>0</td>\n",
       "      <td>1</td>\n",
       "      <td>0</td>\n",
       "      <td>70.70</td>\n",
       "      <td>151.65</td>\n",
       "      <td>1</td>\n",
       "      <td>1</td>\n",
       "    </tr>\n",
       "    <tr>\n",
       "      <th>...</th>\n",
       "      <td>...</td>\n",
       "      <td>...</td>\n",
       "      <td>...</td>\n",
       "      <td>...</td>\n",
       "      <td>...</td>\n",
       "      <td>...</td>\n",
       "      <td>...</td>\n",
       "      <td>...</td>\n",
       "      <td>...</td>\n",
       "      <td>...</td>\n",
       "      <td>...</td>\n",
       "      <td>...</td>\n",
       "    </tr>\n",
       "    <tr>\n",
       "      <th>7038</th>\n",
       "      <td>0</td>\n",
       "      <td>24</td>\n",
       "      <td>0</td>\n",
       "      <td>0</td>\n",
       "      <td>0</td>\n",
       "      <td>1</td>\n",
       "      <td>0</td>\n",
       "      <td>0</td>\n",
       "      <td>84.80</td>\n",
       "      <td>1990.50</td>\n",
       "      <td>0</td>\n",
       "      <td>0</td>\n",
       "    </tr>\n",
       "    <tr>\n",
       "      <th>7039</th>\n",
       "      <td>0</td>\n",
       "      <td>72</td>\n",
       "      <td>1</td>\n",
       "      <td>0</td>\n",
       "      <td>0</td>\n",
       "      <td>1</td>\n",
       "      <td>0</td>\n",
       "      <td>0</td>\n",
       "      <td>103.20</td>\n",
       "      <td>7362.90</td>\n",
       "      <td>1</td>\n",
       "      <td>1</td>\n",
       "    </tr>\n",
       "    <tr>\n",
       "      <th>7040</th>\n",
       "      <td>0</td>\n",
       "      <td>11</td>\n",
       "      <td>0</td>\n",
       "      <td>0</td>\n",
       "      <td>0</td>\n",
       "      <td>0</td>\n",
       "      <td>1</td>\n",
       "      <td>0</td>\n",
       "      <td>29.60</td>\n",
       "      <td>346.45</td>\n",
       "      <td>0</td>\n",
       "      <td>1</td>\n",
       "    </tr>\n",
       "    <tr>\n",
       "      <th>7041</th>\n",
       "      <td>1</td>\n",
       "      <td>4</td>\n",
       "      <td>1</td>\n",
       "      <td>0</td>\n",
       "      <td>0</td>\n",
       "      <td>0</td>\n",
       "      <td>1</td>\n",
       "      <td>0</td>\n",
       "      <td>74.40</td>\n",
       "      <td>306.60</td>\n",
       "      <td>1</td>\n",
       "      <td>1</td>\n",
       "    </tr>\n",
       "    <tr>\n",
       "      <th>7042</th>\n",
       "      <td>0</td>\n",
       "      <td>66</td>\n",
       "      <td>1</td>\n",
       "      <td>0</td>\n",
       "      <td>0</td>\n",
       "      <td>1</td>\n",
       "      <td>0</td>\n",
       "      <td>1</td>\n",
       "      <td>105.65</td>\n",
       "      <td>6844.50</td>\n",
       "      <td>0</td>\n",
       "      <td>0</td>\n",
       "    </tr>\n",
       "  </tbody>\n",
       "</table>\n",
       "<p>7032 rows × 12 columns</p>\n",
       "</div>"
      ],
      "text/plain": [
       "      Churn  tenure  InternetService_Fiber optic  InternetService_No  \\\n",
       "0         0       1                            0                   0   \n",
       "1         0      34                            0                   0   \n",
       "2         1       2                            0                   0   \n",
       "3         0      45                            0                   0   \n",
       "4         1       2                            1                   0   \n",
       "...     ...     ...                          ...                 ...   \n",
       "7038      0      24                            0                   0   \n",
       "7039      0      72                            1                   0   \n",
       "7040      0      11                            0                   0   \n",
       "7041      1       4                            1                   0   \n",
       "7042      0      66                            1                   0   \n",
       "\n",
       "      TechSupport_No internet service  StreamingTV_Yes  \\\n",
       "0                                   0                0   \n",
       "1                                   0                0   \n",
       "2                                   0                0   \n",
       "3                                   0                0   \n",
       "4                                   0                0   \n",
       "...                               ...              ...   \n",
       "7038                                0                1   \n",
       "7039                                0                1   \n",
       "7040                                0                0   \n",
       "7041                                0                0   \n",
       "7042                                0                1   \n",
       "\n",
       "      Contract_Month-to-month  Contract_Two year  MonthlyCharges  \\\n",
       "0                           1                  0           29.85   \n",
       "1                           0                  0           56.95   \n",
       "2                           1                  0           53.85   \n",
       "3                           0                  0           42.30   \n",
       "4                           1                  0           70.70   \n",
       "...                       ...                ...             ...   \n",
       "7038                        0                  0           84.80   \n",
       "7039                        0                  0          103.20   \n",
       "7040                        1                  0           29.60   \n",
       "7041                        1                  0           74.40   \n",
       "7042                        0                  1          105.65   \n",
       "\n",
       "      TotalCharges  OnlineSecurity_No  TechSupport_No  \n",
       "0            29.85                  1               1  \n",
       "1          1889.50                  0               1  \n",
       "2           108.15                  0               1  \n",
       "3          1840.75                  0               0  \n",
       "4           151.65                  1               1  \n",
       "...            ...                ...             ...  \n",
       "7038       1990.50                  0               0  \n",
       "7039       7362.90                  1               1  \n",
       "7040        346.45                  0               1  \n",
       "7041        306.60                  1               1  \n",
       "7042       6844.50                  0               0  \n",
       "\n",
       "[7032 rows x 12 columns]"
      ]
     },
     "execution_count": 42,
     "metadata": {},
     "output_type": "execute_result"
    }
   ],
   "source": [
    "df_dummies2"
   ]
  },
  {
   "cell_type": "code",
   "execution_count": 43,
   "metadata": {
    "_uuid": "32367729f8ea962bb73cae8b88b6310dd811b6de",
    "scrolled": true
   },
   "outputs": [],
   "source": [
    "# Erneutes aufteilen und erstellen eines Train- und Testsets\n",
    "y = df_dummies2['Churn'].values\n",
    "X = df_dummies2.drop(columns = ['Churn'])"
   ]
  },
  {
   "cell_type": "code",
   "execution_count": 44,
   "metadata": {},
   "outputs": [],
   "source": [
    "from sklearn.model_selection import train_test_split\n",
    "X_train, X_test, y_train, y_test = train_test_split(X, y, test_size=0.2, random_state=99)"
   ]
  },
  {
   "cell_type": "markdown",
   "metadata": {},
   "source": [
    "## Finale Modellierung"
   ]
  },
  {
   "cell_type": "code",
   "execution_count": 45,
   "metadata": {},
   "outputs": [],
   "source": [
    "from numpy import mean\n",
    "from numpy import std\n",
    "from sklearn import metrics\n",
    "from sklearn.metrics import classification_report, confusion_matrix  \n",
    "from sklearn.model_selection import cross_val_score\n",
    "from sklearn.model_selection import RepeatedStratifiedKFold"
   ]
  },
  {
   "cell_type": "markdown",
   "metadata": {
    "_uuid": "46dcb2e6e42d4445cb046632fc70be3ecf7b4380"
   },
   "source": [
    "**ADA Boost**"
   ]
  },
  {
   "cell_type": "markdown",
   "metadata": {},
   "source": [
    "Parameter: https://scikit-learn.org/stable/modules/generated/sklearn.ensemble.AdaBoostClassifier.html"
   ]
  },
  {
   "cell_type": "code",
   "execution_count": 46,
   "metadata": {
    "_uuid": "92f12399305244a20814918747d8cc2cf69f2937",
    "scrolled": true
   },
   "outputs": [
    {
     "name": "stdout",
     "output_type": "stream",
     "text": [
      "Accuracy: 0.787 (0.014)\n"
     ]
    },
    {
     "data": {
      "text/plain": [
       "0.8152096659559346"
      ]
     },
     "execution_count": 46,
     "metadata": {},
     "output_type": "execute_result"
    }
   ],
   "source": [
    "# AdaBoost Algorithmus\n",
    "from sklearn.ensemble import AdaBoostClassifier\n",
    "\n",
    "# Cross Validation\n",
    "model = AdaBoostClassifier(learning_rate=0.8, n_estimators=200)\n",
    "cv = RepeatedStratifiedKFold(n_splits=10, n_repeats=3, random_state=99)\n",
    "n_scores = cross_val_score(model, X_train, y_train, scoring='accuracy', cv=cv, n_jobs=-1, error_score='raise')\n",
    "print('Accuracy: %.3f (%.3f)' % (mean(n_scores), std(n_scores)))\n",
    "\n",
    "# Modell fitten\n",
    "model = AdaBoostClassifier(learning_rate=0.8, n_estimators=200)\n",
    "model.fit(X_train,y_train)\n",
    "preds = model.predict(X_test)\n",
    "metrics.accuracy_score(y_test, preds)"
   ]
  },
  {
   "cell_type": "code",
   "execution_count": 47,
   "metadata": {
    "scrolled": true
   },
   "outputs": [
    {
     "name": "stdout",
     "output_type": "stream",
     "text": [
      "              precision    recall  f1-score   support\n",
      "\n",
      "           0       0.85      0.91      0.88      1042\n",
      "           1       0.68      0.53      0.60       365\n",
      "\n",
      "    accuracy                           0.82      1407\n",
      "   macro avg       0.77      0.72      0.74      1407\n",
      "weighted avg       0.81      0.82      0.81      1407\n",
      "\n"
     ]
    }
   ],
   "source": [
    "print(classification_report(y_test, preds))  "
   ]
  },
  {
   "cell_type": "code",
   "execution_count": 48,
   "metadata": {
    "_uuid": "231b49ac18e47fa50c817b4ee1915af17c9d3cd2",
    "scrolled": true
   },
   "outputs": [
    {
     "name": "stdout",
     "output_type": "stream",
     "text": [
      "[[952  90]\n",
      " [170 195]]\n"
     ]
    }
   ],
   "source": [
    "# Confusion Matrix\n",
    "print(confusion_matrix(y_test,preds))  "
   ]
  },
  {
   "cell_type": "markdown",
   "metadata": {},
   "source": [
    "**LightGBM**"
   ]
  },
  {
   "cell_type": "markdown",
   "metadata": {},
   "source": [
    "Parameter: https://lightgbm.readthedocs.io/en/latest/pythonapi/lightgbm.LGBMClassifier.html"
   ]
  },
  {
   "cell_type": "code",
   "execution_count": 49,
   "metadata": {},
   "outputs": [
    {
     "name": "stdout",
     "output_type": "stream",
     "text": [
      "Accuracy: 0.790 (0.014)\n"
     ]
    },
    {
     "data": {
      "text/plain": [
       "0.8230277185501066"
      ]
     },
     "execution_count": 49,
     "metadata": {},
     "output_type": "execute_result"
    }
   ],
   "source": [
    "# lightgbm for classification\n",
    "from numpy import mean\n",
    "from numpy import std\n",
    "from sklearn.model_selection import cross_val_score\n",
    "from sklearn.model_selection import RepeatedStratifiedKFold\n",
    "from lightgbm import LGBMClassifier\n",
    "\n",
    "# Cross Validation\n",
    "model = LGBMClassifier(boosting_type=\"gbdt\", learning_rate=0.1, subsample_for_bin=20, n_estimators=50)\n",
    "cv = RepeatedStratifiedKFold(n_splits=10, n_repeats=3, random_state=99)\n",
    "n_scores = cross_val_score(model, X_train, y_train, scoring='accuracy', cv=cv, n_jobs=-1, error_score='raise')\n",
    "print('Accuracy: %.3f (%.3f)' % (mean(n_scores), std(n_scores)))\n",
    "\n",
    "# Modell fitten\n",
    "model = LGBMClassifier(boosting_type=\"gbdt\", learning_rate=0.1, subsample_for_bin=20, n_estimators=50)\n",
    "model.fit(X_train, y_train)\n",
    "preds = model.predict(X_test)\n",
    "metrics.accuracy_score(y_test, preds)"
   ]
  },
  {
   "cell_type": "code",
   "execution_count": 50,
   "metadata": {},
   "outputs": [
    {
     "name": "stdout",
     "output_type": "stream",
     "text": [
      "              precision    recall  f1-score   support\n",
      "\n",
      "           0       0.85      0.92      0.88      1042\n",
      "           1       0.70      0.56      0.62       365\n",
      "\n",
      "    accuracy                           0.82      1407\n",
      "   macro avg       0.78      0.74      0.75      1407\n",
      "weighted avg       0.81      0.82      0.82      1407\n",
      "\n"
     ]
    }
   ],
   "source": [
    "print(classification_report(y_test, preds)) "
   ]
  },
  {
   "cell_type": "code",
   "execution_count": 51,
   "metadata": {},
   "outputs": [
    {
     "name": "stdout",
     "output_type": "stream",
     "text": [
      "[[955  87]\n",
      " [162 203]]\n"
     ]
    }
   ],
   "source": [
    "# Confusion Matrix\n",
    "print(confusion_matrix(y_test,preds))  "
   ]
  },
  {
   "cell_type": "markdown",
   "metadata": {},
   "source": [
    "**Catboost**"
   ]
  },
  {
   "cell_type": "markdown",
   "metadata": {},
   "source": [
    "Parameter: https://catboost.ai/docs/concepts/python-reference_parameters-list.html#python-reference_parameters-list"
   ]
  },
  {
   "cell_type": "code",
   "execution_count": 52,
   "metadata": {
    "scrolled": true
   },
   "outputs": [
    {
     "name": "stdout",
     "output_type": "stream",
     "text": [
      "Accuracy: 0.792 (0.012)\n",
      "0:\tlearn: 0.6607676\ttotal: 213ms\tremaining: 42.5s\n",
      "1:\tlearn: 0.6333183\ttotal: 223ms\tremaining: 22.1s\n",
      "2:\tlearn: 0.6069490\ttotal: 239ms\tremaining: 15.7s\n",
      "3:\tlearn: 0.5838295\ttotal: 250ms\tremaining: 12.2s\n",
      "4:\tlearn: 0.5640086\ttotal: 261ms\tremaining: 10.2s\n",
      "5:\tlearn: 0.5489575\ttotal: 272ms\tremaining: 8.8s\n",
      "6:\tlearn: 0.5340004\ttotal: 282ms\tremaining: 7.77s\n",
      "7:\tlearn: 0.5209461\ttotal: 293ms\tremaining: 7.04s\n",
      "8:\tlearn: 0.5095298\ttotal: 303ms\tremaining: 6.43s\n",
      "9:\tlearn: 0.5012002\ttotal: 310ms\tremaining: 5.9s\n",
      "10:\tlearn: 0.4918534\ttotal: 319ms\tremaining: 5.48s\n",
      "11:\tlearn: 0.4842235\ttotal: 336ms\tremaining: 5.27s\n",
      "12:\tlearn: 0.4773515\ttotal: 347ms\tremaining: 4.99s\n",
      "13:\tlearn: 0.4713071\ttotal: 356ms\tremaining: 4.72s\n",
      "14:\tlearn: 0.4660299\ttotal: 366ms\tremaining: 4.51s\n",
      "15:\tlearn: 0.4619413\ttotal: 374ms\tremaining: 4.3s\n",
      "16:\tlearn: 0.4576312\ttotal: 383ms\tremaining: 4.13s\n",
      "17:\tlearn: 0.4543471\ttotal: 393ms\tremaining: 3.98s\n",
      "18:\tlearn: 0.4506487\ttotal: 403ms\tremaining: 3.84s\n",
      "19:\tlearn: 0.4480479\ttotal: 414ms\tremaining: 3.72s\n",
      "20:\tlearn: 0.4450588\ttotal: 424ms\tremaining: 3.61s\n",
      "21:\tlearn: 0.4429120\ttotal: 433ms\tremaining: 3.5s\n",
      "22:\tlearn: 0.4406404\ttotal: 444ms\tremaining: 3.42s\n",
      "23:\tlearn: 0.4383403\ttotal: 455ms\tremaining: 3.34s\n",
      "24:\tlearn: 0.4362659\ttotal: 466ms\tremaining: 3.26s\n",
      "25:\tlearn: 0.4338112\ttotal: 476ms\tremaining: 3.19s\n",
      "26:\tlearn: 0.4324251\ttotal: 487ms\tremaining: 3.12s\n",
      "27:\tlearn: 0.4303471\ttotal: 497ms\tremaining: 3.05s\n",
      "28:\tlearn: 0.4289945\ttotal: 507ms\tremaining: 2.99s\n",
      "29:\tlearn: 0.4274144\ttotal: 517ms\tremaining: 2.93s\n",
      "30:\tlearn: 0.4261433\ttotal: 525ms\tremaining: 2.86s\n",
      "31:\tlearn: 0.4251381\ttotal: 535ms\tremaining: 2.81s\n",
      "32:\tlearn: 0.4242124\ttotal: 545ms\tremaining: 2.76s\n",
      "33:\tlearn: 0.4232815\ttotal: 555ms\tremaining: 2.71s\n",
      "34:\tlearn: 0.4223558\ttotal: 565ms\tremaining: 2.66s\n",
      "35:\tlearn: 0.4215299\ttotal: 575ms\tremaining: 2.62s\n",
      "36:\tlearn: 0.4209197\ttotal: 585ms\tremaining: 2.58s\n",
      "37:\tlearn: 0.4201500\ttotal: 595ms\tremaining: 2.54s\n",
      "38:\tlearn: 0.4194315\ttotal: 606ms\tremaining: 2.5s\n",
      "39:\tlearn: 0.4187131\ttotal: 618ms\tremaining: 2.47s\n",
      "40:\tlearn: 0.4182026\ttotal: 644ms\tremaining: 2.5s\n",
      "41:\tlearn: 0.4175191\ttotal: 652ms\tremaining: 2.45s\n",
      "42:\tlearn: 0.4173334\ttotal: 658ms\tremaining: 2.4s\n",
      "43:\tlearn: 0.4167722\ttotal: 666ms\tremaining: 2.36s\n",
      "44:\tlearn: 0.4165341\ttotal: 675ms\tremaining: 2.32s\n",
      "45:\tlearn: 0.4161414\ttotal: 683ms\tremaining: 2.29s\n",
      "46:\tlearn: 0.4155837\ttotal: 691ms\tremaining: 2.25s\n",
      "47:\tlearn: 0.4151612\ttotal: 700ms\tremaining: 2.22s\n",
      "48:\tlearn: 0.4146701\ttotal: 710ms\tremaining: 2.19s\n",
      "49:\tlearn: 0.4141874\ttotal: 719ms\tremaining: 2.16s\n",
      "50:\tlearn: 0.4138192\ttotal: 728ms\tremaining: 2.13s\n",
      "51:\tlearn: 0.4134950\ttotal: 737ms\tremaining: 2.1s\n",
      "52:\tlearn: 0.4128359\ttotal: 745ms\tremaining: 2.07s\n",
      "53:\tlearn: 0.4125155\ttotal: 753ms\tremaining: 2.04s\n",
      "54:\tlearn: 0.4120565\ttotal: 760ms\tremaining: 2s\n",
      "55:\tlearn: 0.4116681\ttotal: 769ms\tremaining: 1.98s\n",
      "56:\tlearn: 0.4111866\ttotal: 780ms\tremaining: 1.96s\n",
      "57:\tlearn: 0.4108511\ttotal: 788ms\tremaining: 1.93s\n",
      "58:\tlearn: 0.4105678\ttotal: 805ms\tremaining: 1.92s\n",
      "59:\tlearn: 0.4103463\ttotal: 815ms\tremaining: 1.9s\n",
      "60:\tlearn: 0.4101040\ttotal: 823ms\tremaining: 1.88s\n",
      "61:\tlearn: 0.4099595\ttotal: 836ms\tremaining: 1.86s\n",
      "62:\tlearn: 0.4096774\ttotal: 844ms\tremaining: 1.83s\n",
      "63:\tlearn: 0.4092872\ttotal: 854ms\tremaining: 1.81s\n",
      "64:\tlearn: 0.4090684\ttotal: 864ms\tremaining: 1.79s\n",
      "65:\tlearn: 0.4086976\ttotal: 873ms\tremaining: 1.77s\n",
      "66:\tlearn: 0.4085613\ttotal: 883ms\tremaining: 1.75s\n",
      "67:\tlearn: 0.4083822\ttotal: 892ms\tremaining: 1.73s\n",
      "68:\tlearn: 0.4081149\ttotal: 902ms\tremaining: 1.71s\n",
      "69:\tlearn: 0.4079204\ttotal: 912ms\tremaining: 1.69s\n",
      "70:\tlearn: 0.4075077\ttotal: 921ms\tremaining: 1.67s\n",
      "71:\tlearn: 0.4073692\ttotal: 932ms\tremaining: 1.66s\n",
      "72:\tlearn: 0.4069996\ttotal: 942ms\tremaining: 1.64s\n",
      "73:\tlearn: 0.4068480\ttotal: 953ms\tremaining: 1.62s\n",
      "74:\tlearn: 0.4066227\ttotal: 964ms\tremaining: 1.6s\n",
      "75:\tlearn: 0.4063306\ttotal: 973ms\tremaining: 1.59s\n",
      "76:\tlearn: 0.4061247\ttotal: 983ms\tremaining: 1.57s\n",
      "77:\tlearn: 0.4059059\ttotal: 993ms\tremaining: 1.55s\n",
      "78:\tlearn: 0.4057743\ttotal: 1s\tremaining: 1.54s\n",
      "79:\tlearn: 0.4056353\ttotal: 1.01s\tremaining: 1.52s\n",
      "80:\tlearn: 0.4055319\ttotal: 1.02s\tremaining: 1.5s\n",
      "81:\tlearn: 0.4053887\ttotal: 1.03s\tremaining: 1.49s\n",
      "82:\tlearn: 0.4052285\ttotal: 1.04s\tremaining: 1.47s\n",
      "83:\tlearn: 0.4049346\ttotal: 1.05s\tremaining: 1.45s\n",
      "84:\tlearn: 0.4048422\ttotal: 1.07s\tremaining: 1.45s\n",
      "85:\tlearn: 0.4047008\ttotal: 1.08s\tremaining: 1.44s\n",
      "86:\tlearn: 0.4044721\ttotal: 1.09s\tremaining: 1.42s\n",
      "87:\tlearn: 0.4043208\ttotal: 1.1s\tremaining: 1.41s\n",
      "88:\tlearn: 0.4041378\ttotal: 1.11s\tremaining: 1.39s\n",
      "89:\tlearn: 0.4039357\ttotal: 1.12s\tremaining: 1.37s\n",
      "90:\tlearn: 0.4037531\ttotal: 1.13s\tremaining: 1.36s\n",
      "91:\tlearn: 0.4035479\ttotal: 1.14s\tremaining: 1.34s\n",
      "92:\tlearn: 0.4034333\ttotal: 1.15s\tremaining: 1.33s\n",
      "93:\tlearn: 0.4032757\ttotal: 1.16s\tremaining: 1.31s\n",
      "94:\tlearn: 0.4031391\ttotal: 1.17s\tremaining: 1.3s\n",
      "95:\tlearn: 0.4029470\ttotal: 1.18s\tremaining: 1.28s\n",
      "96:\tlearn: 0.4027576\ttotal: 1.2s\tremaining: 1.27s\n",
      "97:\tlearn: 0.4025775\ttotal: 1.21s\tremaining: 1.25s\n",
      "98:\tlearn: 0.4022864\ttotal: 1.22s\tremaining: 1.24s\n",
      "99:\tlearn: 0.4020817\ttotal: 1.23s\tremaining: 1.23s\n",
      "100:\tlearn: 0.4019083\ttotal: 1.24s\tremaining: 1.21s\n",
      "101:\tlearn: 0.4017034\ttotal: 1.25s\tremaining: 1.2s\n",
      "102:\tlearn: 0.4014801\ttotal: 1.26s\tremaining: 1.19s\n",
      "103:\tlearn: 0.4012928\ttotal: 1.27s\tremaining: 1.17s\n",
      "104:\tlearn: 0.4011439\ttotal: 1.28s\tremaining: 1.16s\n",
      "105:\tlearn: 0.4010163\ttotal: 1.29s\tremaining: 1.14s\n",
      "106:\tlearn: 0.4008325\ttotal: 1.3s\tremaining: 1.13s\n",
      "107:\tlearn: 0.4007648\ttotal: 1.31s\tremaining: 1.11s\n",
      "108:\tlearn: 0.4005168\ttotal: 1.32s\tremaining: 1.1s\n",
      "109:\tlearn: 0.4003705\ttotal: 1.33s\tremaining: 1.08s\n",
      "110:\tlearn: 0.4002672\ttotal: 1.34s\tremaining: 1.07s\n",
      "111:\tlearn: 0.4001195\ttotal: 1.34s\tremaining: 1.06s\n",
      "112:\tlearn: 0.3999408\ttotal: 1.36s\tremaining: 1.05s\n",
      "113:\tlearn: 0.3997648\ttotal: 1.37s\tremaining: 1.03s\n",
      "114:\tlearn: 0.3996390\ttotal: 1.38s\tremaining: 1.02s\n",
      "115:\tlearn: 0.3995323\ttotal: 1.39s\tremaining: 1.01s\n",
      "116:\tlearn: 0.3993893\ttotal: 1.4s\tremaining: 995ms\n",
      "117:\tlearn: 0.3993125\ttotal: 1.41s\tremaining: 982ms\n",
      "118:\tlearn: 0.3991274\ttotal: 1.42s\tremaining: 969ms\n",
      "119:\tlearn: 0.3989403\ttotal: 1.43s\tremaining: 956ms\n",
      "120:\tlearn: 0.3987330\ttotal: 1.44s\tremaining: 943ms\n",
      "121:\tlearn: 0.3985804\ttotal: 1.46s\tremaining: 930ms\n",
      "122:\tlearn: 0.3984852\ttotal: 1.47s\tremaining: 918ms\n",
      "123:\tlearn: 0.3982276\ttotal: 1.48s\tremaining: 905ms\n",
      "124:\tlearn: 0.3980039\ttotal: 1.49s\tremaining: 893ms\n",
      "125:\tlearn: 0.3976875\ttotal: 1.5s\tremaining: 880ms\n",
      "126:\tlearn: 0.3976868\ttotal: 1.5s\tremaining: 865ms\n",
      "127:\tlearn: 0.3974965\ttotal: 1.51s\tremaining: 852ms\n",
      "128:\tlearn: 0.3973849\ttotal: 1.52s\tremaining: 840ms\n",
      "129:\tlearn: 0.3972792\ttotal: 1.53s\tremaining: 826ms\n",
      "130:\tlearn: 0.3971093\ttotal: 1.54s\tremaining: 814ms\n",
      "131:\tlearn: 0.3968476\ttotal: 1.55s\tremaining: 801ms\n",
      "132:\tlearn: 0.3967651\ttotal: 1.56s\tremaining: 788ms\n",
      "133:\tlearn: 0.3965951\ttotal: 1.57s\tremaining: 776ms\n",
      "134:\tlearn: 0.3964412\ttotal: 1.58s\tremaining: 763ms\n",
      "135:\tlearn: 0.3962980\ttotal: 1.59s\tremaining: 749ms\n",
      "136:\tlearn: 0.3960840\ttotal: 1.6s\tremaining: 737ms\n",
      "137:\tlearn: 0.3959545\ttotal: 1.61s\tremaining: 725ms\n",
      "138:\tlearn: 0.3957099\ttotal: 1.63s\tremaining: 717ms\n",
      "139:\tlearn: 0.3953924\ttotal: 1.65s\tremaining: 705ms\n",
      "140:\tlearn: 0.3951978\ttotal: 1.66s\tremaining: 695ms\n",
      "141:\tlearn: 0.3950151\ttotal: 1.68s\tremaining: 685ms\n",
      "142:\tlearn: 0.3948604\ttotal: 1.69s\tremaining: 673ms\n",
      "143:\tlearn: 0.3946895\ttotal: 1.72s\tremaining: 669ms\n",
      "144:\tlearn: 0.3944827\ttotal: 1.74s\tremaining: 658ms\n",
      "145:\tlearn: 0.3944110\ttotal: 1.75s\tremaining: 648ms\n",
      "146:\tlearn: 0.3942712\ttotal: 1.76s\tremaining: 635ms\n",
      "147:\tlearn: 0.3940562\ttotal: 1.77s\tremaining: 622ms\n",
      "148:\tlearn: 0.3938907\ttotal: 1.79s\tremaining: 612ms\n",
      "149:\tlearn: 0.3938319\ttotal: 1.8s\tremaining: 600ms\n",
      "150:\tlearn: 0.3936504\ttotal: 1.81s\tremaining: 587ms\n",
      "151:\tlearn: 0.3934522\ttotal: 1.82s\tremaining: 576ms\n",
      "152:\tlearn: 0.3933141\ttotal: 1.83s\tremaining: 563ms\n",
      "153:\tlearn: 0.3931592\ttotal: 1.84s\tremaining: 551ms\n",
      "154:\tlearn: 0.3930748\ttotal: 1.86s\tremaining: 540ms\n",
      "155:\tlearn: 0.3929015\ttotal: 1.87s\tremaining: 528ms\n",
      "156:\tlearn: 0.3927902\ttotal: 1.88s\tremaining: 515ms\n",
      "157:\tlearn: 0.3926239\ttotal: 1.89s\tremaining: 503ms\n",
      "158:\tlearn: 0.3923655\ttotal: 1.9s\tremaining: 490ms\n",
      "159:\tlearn: 0.3921188\ttotal: 1.91s\tremaining: 478ms\n",
      "160:\tlearn: 0.3919871\ttotal: 1.92s\tremaining: 466ms\n",
      "161:\tlearn: 0.3918751\ttotal: 1.93s\tremaining: 454ms\n",
      "162:\tlearn: 0.3916988\ttotal: 1.94s\tremaining: 441ms\n",
      "163:\tlearn: 0.3914421\ttotal: 1.96s\tremaining: 429ms\n",
      "164:\tlearn: 0.3912694\ttotal: 1.97s\tremaining: 417ms\n"
     ]
    },
    {
     "name": "stdout",
     "output_type": "stream",
     "text": [
      "165:\tlearn: 0.3910983\ttotal: 1.98s\tremaining: 405ms\n",
      "166:\tlearn: 0.3910154\ttotal: 1.99s\tremaining: 393ms\n",
      "167:\tlearn: 0.3908665\ttotal: 2s\tremaining: 381ms\n",
      "168:\tlearn: 0.3907489\ttotal: 2.01s\tremaining: 369ms\n",
      "169:\tlearn: 0.3905571\ttotal: 2.02s\tremaining: 356ms\n",
      "170:\tlearn: 0.3904674\ttotal: 2.03s\tremaining: 344ms\n",
      "171:\tlearn: 0.3903397\ttotal: 2.04s\tremaining: 332ms\n",
      "172:\tlearn: 0.3902070\ttotal: 2.05s\tremaining: 320ms\n",
      "173:\tlearn: 0.3899004\ttotal: 2.06s\tremaining: 308ms\n",
      "174:\tlearn: 0.3897146\ttotal: 2.07s\tremaining: 295ms\n",
      "175:\tlearn: 0.3894841\ttotal: 2.08s\tremaining: 283ms\n",
      "176:\tlearn: 0.3893214\ttotal: 2.09s\tremaining: 271ms\n",
      "177:\tlearn: 0.3891504\ttotal: 2.1s\tremaining: 259ms\n",
      "178:\tlearn: 0.3890576\ttotal: 2.1s\tremaining: 247ms\n",
      "179:\tlearn: 0.3888808\ttotal: 2.12s\tremaining: 235ms\n",
      "180:\tlearn: 0.3885954\ttotal: 2.13s\tremaining: 223ms\n",
      "181:\tlearn: 0.3883533\ttotal: 2.13s\tremaining: 211ms\n",
      "182:\tlearn: 0.3881170\ttotal: 2.14s\tremaining: 199ms\n",
      "183:\tlearn: 0.3878442\ttotal: 2.17s\tremaining: 188ms\n",
      "184:\tlearn: 0.3877049\ttotal: 2.17s\tremaining: 176ms\n",
      "185:\tlearn: 0.3875502\ttotal: 2.18s\tremaining: 164ms\n",
      "186:\tlearn: 0.3873361\ttotal: 2.19s\tremaining: 152ms\n",
      "187:\tlearn: 0.3872189\ttotal: 2.2s\tremaining: 141ms\n",
      "188:\tlearn: 0.3870171\ttotal: 2.21s\tremaining: 129ms\n",
      "189:\tlearn: 0.3868315\ttotal: 2.22s\tremaining: 117ms\n",
      "190:\tlearn: 0.3865920\ttotal: 2.23s\tremaining: 105ms\n",
      "191:\tlearn: 0.3864017\ttotal: 2.24s\tremaining: 93.4ms\n",
      "192:\tlearn: 0.3862735\ttotal: 2.25s\tremaining: 81.6ms\n",
      "193:\tlearn: 0.3860763\ttotal: 2.26s\tremaining: 69.9ms\n",
      "194:\tlearn: 0.3859400\ttotal: 2.27s\tremaining: 58.1ms\n",
      "195:\tlearn: 0.3858458\ttotal: 2.28s\tremaining: 46.5ms\n",
      "196:\tlearn: 0.3855790\ttotal: 2.29s\tremaining: 34.8ms\n",
      "197:\tlearn: 0.3853790\ttotal: 2.29s\tremaining: 23.2ms\n",
      "198:\tlearn: 0.3851568\ttotal: 2.31s\tremaining: 11.6ms\n",
      "199:\tlearn: 0.3849098\ttotal: 2.32s\tremaining: 0us\n"
     ]
    },
    {
     "data": {
      "text/plain": [
       "0.8244491826581379"
      ]
     },
     "execution_count": 52,
     "metadata": {},
     "output_type": "execute_result"
    }
   ],
   "source": [
    "from catboost import CatBoostClassifier\n",
    "\n",
    "# Cross Validation\n",
    "model = CatBoostClassifier(depth= 6 , iterations = 200, learning_rate= 0.05)\n",
    "cv = RepeatedStratifiedKFold(n_splits=10, n_repeats=3, random_state=99)\n",
    "n_scores = cross_val_score(model, X_train, y_train, scoring='accuracy', cv=cv, n_jobs=-1, error_score='raise')\n",
    "print('Accuracy: %.3f (%.3f)' % (mean(n_scores), std(n_scores)))\n",
    "\n",
    "# Model fitten\n",
    "model = CatBoostClassifier(depth = 6 , iterations = 200, learning_rate= 0.05)\n",
    "model.fit(X_train, y_train)\n",
    "preds = model.predict(X_test)\n",
    "metrics.accuracy_score(y_test, preds)"
   ]
  },
  {
   "cell_type": "code",
   "execution_count": 53,
   "metadata": {
    "scrolled": true
   },
   "outputs": [
    {
     "name": "stdout",
     "output_type": "stream",
     "text": [
      "              precision    recall  f1-score   support\n",
      "\n",
      "           0       0.85      0.92      0.89      1042\n",
      "           1       0.71      0.55      0.62       365\n",
      "\n",
      "    accuracy                           0.82      1407\n",
      "   macro avg       0.78      0.73      0.75      1407\n",
      "weighted avg       0.82      0.82      0.82      1407\n",
      "\n"
     ]
    }
   ],
   "source": [
    "print(classification_report(y_test, preds))  "
   ]
  },
  {
   "cell_type": "code",
   "execution_count": 54,
   "metadata": {
    "_uuid": "231b49ac18e47fa50c817b4ee1915af17c9d3cd2",
    "scrolled": true
   },
   "outputs": [
    {
     "name": "stdout",
     "output_type": "stream",
     "text": [
      "[[961  81]\n",
      " [166 199]]\n"
     ]
    }
   ],
   "source": [
    "# Confusion matrix\n",
    "print(confusion_matrix(y_test,preds))  "
   ]
  },
  {
   "cell_type": "code",
   "execution_count": 55,
   "metadata": {},
   "outputs": [
    {
     "data": {
      "text/plain": [
       "array([0], dtype=int64)"
      ]
     },
     "execution_count": 55,
     "metadata": {},
     "output_type": "execute_result"
    }
   ],
   "source": [
    "# Vorhersage für einen Fall treffen\n",
    "model.predict(X[3:4])"
   ]
  },
  {
   "cell_type": "code",
   "execution_count": 56,
   "metadata": {},
   "outputs": [
    {
     "data": {
      "text/plain": [
       "array([[0.72343863, 0.27656137],\n",
       "       [0.45147441, 0.54852559],\n",
       "       [0.94426927, 0.05573073],\n",
       "       ...,\n",
       "       [0.78428151, 0.21571849],\n",
       "       [0.99170928, 0.00829072],\n",
       "       [0.9870372 , 0.0129628 ]])"
      ]
     },
     "execution_count": 56,
     "metadata": {},
     "output_type": "execute_result"
    }
   ],
   "source": [
    "# Vorhersage der Wahrscheinlichkeiten\n",
    "model.predict_proba(X_test)"
   ]
  },
  {
   "cell_type": "code",
   "execution_count": 57,
   "metadata": {},
   "outputs": [],
   "source": [
    "# Fertiges Modell speichern\n",
    "import pickle\n",
    "pickle.dump(model, open(\"model.pkl\", \"wb\"))"
   ]
  },
  {
   "cell_type": "code",
   "execution_count": null,
   "metadata": {},
   "outputs": [],
   "source": []
  }
 ],
 "metadata": {
  "kernelspec": {
   "display_name": "Python 3",
   "language": "python",
   "name": "python3"
  },
  "language_info": {
   "codemirror_mode": {
    "name": "ipython",
    "version": 3
   },
   "file_extension": ".py",
   "mimetype": "text/x-python",
   "name": "python",
   "nbconvert_exporter": "python",
   "pygments_lexer": "ipython3",
   "version": "3.8.3"
  }
 },
 "nbformat": 4,
 "nbformat_minor": 1
}
